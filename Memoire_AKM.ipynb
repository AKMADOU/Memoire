{
  "cells": [
    {
      "cell_type": "markdown",
      "metadata": {
        "id": "view-in-github",
        "colab_type": "text"
      },
      "source": [
        "<a href=\"https://colab.research.google.com/github/AKMADOU/Memoire/blob/main/Memoire_AKM.ipynb\" target=\"_parent\"><img src=\"https://colab.research.google.com/assets/colab-badge.svg\" alt=\"Open In Colab\"/></a>"
      ]
    },
    {
      "cell_type": "code",
      "execution_count": 1,
      "metadata": {
        "id": "RMkbsYEdcSve"
      },
      "outputs": [],
      "source": [
        "import pandas as pd\n",
        "import numpy as np\n",
        "import datetime as dt\n",
        "from tqdm.notebook import tqdm_notebook\n",
        "import seaborn as sns\n",
        "import matplotlib.pyplot as plt\n",
        "from matplotlib import pyplot\n",
        "from sklearn import preprocessing\n",
        "from sklearn.tree import DecisionTreeRegressor\n",
        "from sklearn import metrics\n",
        "from sklearn.ensemble import RandomForestRegressor\n",
        "from sklearn.datasets import load_boston\n",
        "from sklearn.datasets import make_regression\n",
        "from sklearn.metrics import mean_squared_error\n",
        "from sklearn.model_selection import train_test_split\n",
        "from sklearn.preprocessing import scale\n",
        "from keras.models import Sequential\n",
        "from keras.layers import Dense\n",
        "from sklearn import set_config \n",
        "import warnings\n",
        "warnings.filterwarnings('ignore')\n",
        "\n"
      ]
    },
    {
      "cell_type": "code",
      "execution_count": 2,
      "metadata": {
        "colab": {
          "base_uri": "https://localhost:8080/"
        },
        "id": "rT8d7qyocT-u",
        "outputId": "f724acf5-988e-44d3-c971-e0ec7551d79c"
      },
      "outputs": [
        {
          "output_type": "execute_result",
          "data": {
            "text/plain": [
              "(9134, 26)"
            ]
          },
          "metadata": {},
          "execution_count": 2
        }
      ],
      "source": [
        "df=pd.read_csv('/content/AutoInsuranceClaims (1).csv')\n",
        "df.shape"
      ]
    },
    {
      "cell_type": "code",
      "execution_count": 3,
      "metadata": {
        "id": "eOeG3F-bcgI5"
      },
      "outputs": [],
      "source": [
        "data=df.copy()"
      ]
    },
    {
      "cell_type": "code",
      "execution_count": 4,
      "metadata": {
        "colab": {
          "base_uri": "https://localhost:8080/"
        },
        "id": "wfugAzmnci8s",
        "outputId": "4f7879e2-d51a-4b02-fc1e-8a6a0b56de3d"
      },
      "outputs": [
        {
          "output_type": "execute_result",
          "data": {
            "text/plain": [
              "Customer                         0\n",
              "Country                          0\n",
              "State Code                       0\n",
              "State                            0\n",
              "Claim Amount                     0\n",
              "Response                         0\n",
              "Coverage                         0\n",
              "Education                        0\n",
              "Effective To Date                0\n",
              "EmploymentStatus                 0\n",
              "Gender                           0\n",
              "Income                           0\n",
              "Location Code                    0\n",
              "Marital Status                   0\n",
              "Monthly Premium Auto             0\n",
              "Months Since Last Claim          0\n",
              "Months Since Policy Inception    0\n",
              "Number of Open Complaints        0\n",
              "Number of Policies               0\n",
              "Policy Type                      0\n",
              "Policy                           0\n",
              "Claim Reason                     0\n",
              "Sales Channel                    0\n",
              "Total Claim Amount               0\n",
              "Vehicle Class                    0\n",
              "Vehicle Size                     0\n",
              "dtype: int64"
            ]
          },
          "metadata": {},
          "execution_count": 4
        }
      ],
      "source": [
        "data.isna().sum()"
      ]
    },
    {
      "cell_type": "code",
      "execution_count": 5,
      "metadata": {
        "colab": {
          "base_uri": "https://localhost:8080/",
          "height": 341
        },
        "id": "962DkGLdcnqk",
        "outputId": "9c297208-8ea3-4c0d-c72f-9c08e5589893"
      },
      "outputs": [
        {
          "output_type": "execute_result",
          "data": {
            "text/html": [
              "\n",
              "  <div id=\"df-3d0fad8d-7a79-4b2f-abc3-413a83083396\">\n",
              "    <div class=\"colab-df-container\">\n",
              "      <div>\n",
              "<style scoped>\n",
              "    .dataframe tbody tr th:only-of-type {\n",
              "        vertical-align: middle;\n",
              "    }\n",
              "\n",
              "    .dataframe tbody tr th {\n",
              "        vertical-align: top;\n",
              "    }\n",
              "\n",
              "    .dataframe thead th {\n",
              "        text-align: right;\n",
              "    }\n",
              "</style>\n",
              "<table border=\"1\" class=\"dataframe\">\n",
              "  <thead>\n",
              "    <tr style=\"text-align: right;\">\n",
              "      <th></th>\n",
              "      <th>Customer</th>\n",
              "      <th>Country</th>\n",
              "      <th>State Code</th>\n",
              "      <th>State</th>\n",
              "      <th>Claim Amount</th>\n",
              "      <th>Response</th>\n",
              "      <th>Coverage</th>\n",
              "      <th>Education</th>\n",
              "      <th>Effective To Date</th>\n",
              "      <th>EmploymentStatus</th>\n",
              "      <th>...</th>\n",
              "      <th>Months Since Policy Inception</th>\n",
              "      <th>Number of Open Complaints</th>\n",
              "      <th>Number of Policies</th>\n",
              "      <th>Policy Type</th>\n",
              "      <th>Policy</th>\n",
              "      <th>Claim Reason</th>\n",
              "      <th>Sales Channel</th>\n",
              "      <th>Total Claim Amount</th>\n",
              "      <th>Vehicle Class</th>\n",
              "      <th>Vehicle Size</th>\n",
              "    </tr>\n",
              "  </thead>\n",
              "  <tbody>\n",
              "    <tr>\n",
              "      <th>0</th>\n",
              "      <td>BU79786</td>\n",
              "      <td>US</td>\n",
              "      <td>KS</td>\n",
              "      <td>Kansas</td>\n",
              "      <td>276.351928</td>\n",
              "      <td>No</td>\n",
              "      <td>Basic</td>\n",
              "      <td>Bachelor</td>\n",
              "      <td>2/24/2011</td>\n",
              "      <td>Employed</td>\n",
              "      <td>...</td>\n",
              "      <td>5</td>\n",
              "      <td>0</td>\n",
              "      <td>1</td>\n",
              "      <td>Corporate Auto</td>\n",
              "      <td>Corporate L3</td>\n",
              "      <td>Collision</td>\n",
              "      <td>Agent</td>\n",
              "      <td>384.811147</td>\n",
              "      <td>Two-Door Car</td>\n",
              "      <td>Medsize</td>\n",
              "    </tr>\n",
              "    <tr>\n",
              "      <th>1</th>\n",
              "      <td>QZ44356</td>\n",
              "      <td>US</td>\n",
              "      <td>NE</td>\n",
              "      <td>Nebraska</td>\n",
              "      <td>697.953590</td>\n",
              "      <td>No</td>\n",
              "      <td>Extended</td>\n",
              "      <td>Bachelor</td>\n",
              "      <td>1/31/2011</td>\n",
              "      <td>Unemployed</td>\n",
              "      <td>...</td>\n",
              "      <td>42</td>\n",
              "      <td>0</td>\n",
              "      <td>8</td>\n",
              "      <td>Personal Auto</td>\n",
              "      <td>Personal L3</td>\n",
              "      <td>Scratch/Dent</td>\n",
              "      <td>Agent</td>\n",
              "      <td>1131.464935</td>\n",
              "      <td>Four-Door Car</td>\n",
              "      <td>Medsize</td>\n",
              "    </tr>\n",
              "    <tr>\n",
              "      <th>2</th>\n",
              "      <td>AI49188</td>\n",
              "      <td>US</td>\n",
              "      <td>OK</td>\n",
              "      <td>Oklahoma</td>\n",
              "      <td>1288.743165</td>\n",
              "      <td>No</td>\n",
              "      <td>Premium</td>\n",
              "      <td>Bachelor</td>\n",
              "      <td>2/19/2011</td>\n",
              "      <td>Employed</td>\n",
              "      <td>...</td>\n",
              "      <td>38</td>\n",
              "      <td>0</td>\n",
              "      <td>2</td>\n",
              "      <td>Personal Auto</td>\n",
              "      <td>Personal L3</td>\n",
              "      <td>Collision</td>\n",
              "      <td>Agent</td>\n",
              "      <td>566.472247</td>\n",
              "      <td>Two-Door Car</td>\n",
              "      <td>Medsize</td>\n",
              "    </tr>\n",
              "  </tbody>\n",
              "</table>\n",
              "<p>3 rows × 26 columns</p>\n",
              "</div>\n",
              "      <button class=\"colab-df-convert\" onclick=\"convertToInteractive('df-3d0fad8d-7a79-4b2f-abc3-413a83083396')\"\n",
              "              title=\"Convert this dataframe to an interactive table.\"\n",
              "              style=\"display:none;\">\n",
              "        \n",
              "  <svg xmlns=\"http://www.w3.org/2000/svg\" height=\"24px\"viewBox=\"0 0 24 24\"\n",
              "       width=\"24px\">\n",
              "    <path d=\"M0 0h24v24H0V0z\" fill=\"none\"/>\n",
              "    <path d=\"M18.56 5.44l.94 2.06.94-2.06 2.06-.94-2.06-.94-.94-2.06-.94 2.06-2.06.94zm-11 1L8.5 8.5l.94-2.06 2.06-.94-2.06-.94L8.5 2.5l-.94 2.06-2.06.94zm10 10l.94 2.06.94-2.06 2.06-.94-2.06-.94-.94-2.06-.94 2.06-2.06.94z\"/><path d=\"M17.41 7.96l-1.37-1.37c-.4-.4-.92-.59-1.43-.59-.52 0-1.04.2-1.43.59L10.3 9.45l-7.72 7.72c-.78.78-.78 2.05 0 2.83L4 21.41c.39.39.9.59 1.41.59.51 0 1.02-.2 1.41-.59l7.78-7.78 2.81-2.81c.8-.78.8-2.07 0-2.86zM5.41 20L4 18.59l7.72-7.72 1.47 1.35L5.41 20z\"/>\n",
              "  </svg>\n",
              "      </button>\n",
              "      \n",
              "  <style>\n",
              "    .colab-df-container {\n",
              "      display:flex;\n",
              "      flex-wrap:wrap;\n",
              "      gap: 12px;\n",
              "    }\n",
              "\n",
              "    .colab-df-convert {\n",
              "      background-color: #E8F0FE;\n",
              "      border: none;\n",
              "      border-radius: 50%;\n",
              "      cursor: pointer;\n",
              "      display: none;\n",
              "      fill: #1967D2;\n",
              "      height: 32px;\n",
              "      padding: 0 0 0 0;\n",
              "      width: 32px;\n",
              "    }\n",
              "\n",
              "    .colab-df-convert:hover {\n",
              "      background-color: #E2EBFA;\n",
              "      box-shadow: 0px 1px 2px rgba(60, 64, 67, 0.3), 0px 1px 3px 1px rgba(60, 64, 67, 0.15);\n",
              "      fill: #174EA6;\n",
              "    }\n",
              "\n",
              "    [theme=dark] .colab-df-convert {\n",
              "      background-color: #3B4455;\n",
              "      fill: #D2E3FC;\n",
              "    }\n",
              "\n",
              "    [theme=dark] .colab-df-convert:hover {\n",
              "      background-color: #434B5C;\n",
              "      box-shadow: 0px 1px 3px 1px rgba(0, 0, 0, 0.15);\n",
              "      filter: drop-shadow(0px 1px 2px rgba(0, 0, 0, 0.3));\n",
              "      fill: #FFFFFF;\n",
              "    }\n",
              "  </style>\n",
              "\n",
              "      <script>\n",
              "        const buttonEl =\n",
              "          document.querySelector('#df-3d0fad8d-7a79-4b2f-abc3-413a83083396 button.colab-df-convert');\n",
              "        buttonEl.style.display =\n",
              "          google.colab.kernel.accessAllowed ? 'block' : 'none';\n",
              "\n",
              "        async function convertToInteractive(key) {\n",
              "          const element = document.querySelector('#df-3d0fad8d-7a79-4b2f-abc3-413a83083396');\n",
              "          const dataTable =\n",
              "            await google.colab.kernel.invokeFunction('convertToInteractive',\n",
              "                                                     [key], {});\n",
              "          if (!dataTable) return;\n",
              "\n",
              "          const docLinkHtml = 'Like what you see? Visit the ' +\n",
              "            '<a target=\"_blank\" href=https://colab.research.google.com/notebooks/data_table.ipynb>data table notebook</a>'\n",
              "            + ' to learn more about interactive tables.';\n",
              "          element.innerHTML = '';\n",
              "          dataTable['output_type'] = 'display_data';\n",
              "          await google.colab.output.renderOutput(dataTable, element);\n",
              "          const docLink = document.createElement('div');\n",
              "          docLink.innerHTML = docLinkHtml;\n",
              "          element.appendChild(docLink);\n",
              "        }\n",
              "      </script>\n",
              "    </div>\n",
              "  </div>\n",
              "  "
            ],
            "text/plain": [
              "  Customer Country State Code     State  Claim Amount Response  Coverage  \\\n",
              "0  BU79786      US         KS    Kansas    276.351928       No     Basic   \n",
              "1  QZ44356      US         NE  Nebraska    697.953590       No  Extended   \n",
              "2  AI49188      US         OK  Oklahoma   1288.743165       No   Premium   \n",
              "\n",
              "  Education Effective To Date EmploymentStatus  ...  \\\n",
              "0  Bachelor         2/24/2011         Employed  ...   \n",
              "1  Bachelor         1/31/2011       Unemployed  ...   \n",
              "2  Bachelor         2/19/2011         Employed  ...   \n",
              "\n",
              "  Months Since Policy Inception  Number of Open Complaints Number of Policies  \\\n",
              "0                             5                          0                  1   \n",
              "1                            42                          0                  8   \n",
              "2                            38                          0                  2   \n",
              "\n",
              "      Policy Type        Policy  Claim Reason  Sales Channel  \\\n",
              "0  Corporate Auto  Corporate L3     Collision          Agent   \n",
              "1   Personal Auto   Personal L3  Scratch/Dent          Agent   \n",
              "2   Personal Auto   Personal L3     Collision          Agent   \n",
              "\n",
              "   Total Claim Amount  Vehicle Class Vehicle Size  \n",
              "0          384.811147   Two-Door Car      Medsize  \n",
              "1         1131.464935  Four-Door Car      Medsize  \n",
              "2          566.472247   Two-Door Car      Medsize  \n",
              "\n",
              "[3 rows x 26 columns]"
            ]
          },
          "metadata": {},
          "execution_count": 5
        }
      ],
      "source": [
        "data.head(3)"
      ]
    },
    {
      "cell_type": "code",
      "execution_count": 6,
      "metadata": {
        "id": "aKCKZ9Wh4kij"
      },
      "outputs": [],
      "source": [
        "# Claim=np.median(data['Claim Amount'])\n",
        "# Claim_class=(data['Claim Amount']<=np.median(data['Claim Amount']))*1\n",
        "# Claim_class.value_counts()"
      ]
    },
    {
      "cell_type": "code",
      "execution_count": 7,
      "metadata": {
        "colab": {
          "base_uri": "https://localhost:8080/"
        },
        "id": "GJavWEgk5OqC",
        "outputId": "e959a24e-c9b9-4aa7-f971-8b05cf63c1cc"
      },
      "outputs": [
        {
          "output_type": "execute_result",
          "data": {
            "text/plain": [
              "No     7826\n",
              "Yes    1308\n",
              "Name: Response, dtype: int64"
            ]
          },
          "metadata": {},
          "execution_count": 7
        }
      ],
      "source": [
        "data.Response.value_counts()"
      ]
    },
    {
      "cell_type": "code",
      "execution_count": 8,
      "metadata": {
        "id": "9UA13d8IdmIn"
      },
      "outputs": [],
      "source": [
        "data.drop(columns=[\"Effective To Date\",\"State Code\",\"Customer\",\n",
        "                  \"Policy Type\",\"Country\",\"Sales Channel\"],inplace=True)"
      ]
    },
    {
      "cell_type": "code",
      "execution_count": 9,
      "metadata": {
        "colab": {
          "base_uri": "https://localhost:8080/",
          "height": 311
        },
        "id": "Olfc_Q4wczCj",
        "outputId": "c1e4e752-3a1e-4119-a17e-f180d16e0337"
      },
      "outputs": [
        {
          "output_type": "execute_result",
          "data": {
            "text/html": [
              "\n",
              "  <div id=\"df-a88f66ee-f5c6-4d7e-bc55-764839329444\">\n",
              "    <div class=\"colab-df-container\">\n",
              "      <div>\n",
              "<style scoped>\n",
              "    .dataframe tbody tr th:only-of-type {\n",
              "        vertical-align: middle;\n",
              "    }\n",
              "\n",
              "    .dataframe tbody tr th {\n",
              "        vertical-align: top;\n",
              "    }\n",
              "\n",
              "    .dataframe thead th {\n",
              "        text-align: right;\n",
              "    }\n",
              "</style>\n",
              "<table border=\"1\" class=\"dataframe\">\n",
              "  <thead>\n",
              "    <tr style=\"text-align: right;\">\n",
              "      <th></th>\n",
              "      <th>State</th>\n",
              "      <th>Claim Amount</th>\n",
              "      <th>Response</th>\n",
              "      <th>Coverage</th>\n",
              "      <th>Education</th>\n",
              "      <th>EmploymentStatus</th>\n",
              "      <th>Gender</th>\n",
              "      <th>Income</th>\n",
              "      <th>Location Code</th>\n",
              "      <th>Marital Status</th>\n",
              "      <th>Monthly Premium Auto</th>\n",
              "      <th>Months Since Last Claim</th>\n",
              "      <th>Months Since Policy Inception</th>\n",
              "      <th>Number of Open Complaints</th>\n",
              "      <th>Number of Policies</th>\n",
              "      <th>Policy</th>\n",
              "      <th>Claim Reason</th>\n",
              "      <th>Total Claim Amount</th>\n",
              "      <th>Vehicle Class</th>\n",
              "      <th>Vehicle Size</th>\n",
              "    </tr>\n",
              "  </thead>\n",
              "  <tbody>\n",
              "    <tr>\n",
              "      <th>0</th>\n",
              "      <td>Kansas</td>\n",
              "      <td>276.351928</td>\n",
              "      <td>No</td>\n",
              "      <td>Basic</td>\n",
              "      <td>Bachelor</td>\n",
              "      <td>Employed</td>\n",
              "      <td>F</td>\n",
              "      <td>56274</td>\n",
              "      <td>Suburban</td>\n",
              "      <td>Married</td>\n",
              "      <td>69</td>\n",
              "      <td>32</td>\n",
              "      <td>5</td>\n",
              "      <td>0</td>\n",
              "      <td>1</td>\n",
              "      <td>Corporate L3</td>\n",
              "      <td>Collision</td>\n",
              "      <td>384.811147</td>\n",
              "      <td>Two-Door Car</td>\n",
              "      <td>Medsize</td>\n",
              "    </tr>\n",
              "    <tr>\n",
              "      <th>1</th>\n",
              "      <td>Nebraska</td>\n",
              "      <td>697.953590</td>\n",
              "      <td>No</td>\n",
              "      <td>Extended</td>\n",
              "      <td>Bachelor</td>\n",
              "      <td>Unemployed</td>\n",
              "      <td>F</td>\n",
              "      <td>0</td>\n",
              "      <td>Suburban</td>\n",
              "      <td>Single</td>\n",
              "      <td>94</td>\n",
              "      <td>13</td>\n",
              "      <td>42</td>\n",
              "      <td>0</td>\n",
              "      <td>8</td>\n",
              "      <td>Personal L3</td>\n",
              "      <td>Scratch/Dent</td>\n",
              "      <td>1131.464935</td>\n",
              "      <td>Four-Door Car</td>\n",
              "      <td>Medsize</td>\n",
              "    </tr>\n",
              "    <tr>\n",
              "      <th>2</th>\n",
              "      <td>Oklahoma</td>\n",
              "      <td>1288.743165</td>\n",
              "      <td>No</td>\n",
              "      <td>Premium</td>\n",
              "      <td>Bachelor</td>\n",
              "      <td>Employed</td>\n",
              "      <td>F</td>\n",
              "      <td>48767</td>\n",
              "      <td>Suburban</td>\n",
              "      <td>Married</td>\n",
              "      <td>108</td>\n",
              "      <td>18</td>\n",
              "      <td>38</td>\n",
              "      <td>0</td>\n",
              "      <td>2</td>\n",
              "      <td>Personal L3</td>\n",
              "      <td>Collision</td>\n",
              "      <td>566.472247</td>\n",
              "      <td>Two-Door Car</td>\n",
              "      <td>Medsize</td>\n",
              "    </tr>\n",
              "  </tbody>\n",
              "</table>\n",
              "</div>\n",
              "      <button class=\"colab-df-convert\" onclick=\"convertToInteractive('df-a88f66ee-f5c6-4d7e-bc55-764839329444')\"\n",
              "              title=\"Convert this dataframe to an interactive table.\"\n",
              "              style=\"display:none;\">\n",
              "        \n",
              "  <svg xmlns=\"http://www.w3.org/2000/svg\" height=\"24px\"viewBox=\"0 0 24 24\"\n",
              "       width=\"24px\">\n",
              "    <path d=\"M0 0h24v24H0V0z\" fill=\"none\"/>\n",
              "    <path d=\"M18.56 5.44l.94 2.06.94-2.06 2.06-.94-2.06-.94-.94-2.06-.94 2.06-2.06.94zm-11 1L8.5 8.5l.94-2.06 2.06-.94-2.06-.94L8.5 2.5l-.94 2.06-2.06.94zm10 10l.94 2.06.94-2.06 2.06-.94-2.06-.94-.94-2.06-.94 2.06-2.06.94z\"/><path d=\"M17.41 7.96l-1.37-1.37c-.4-.4-.92-.59-1.43-.59-.52 0-1.04.2-1.43.59L10.3 9.45l-7.72 7.72c-.78.78-.78 2.05 0 2.83L4 21.41c.39.39.9.59 1.41.59.51 0 1.02-.2 1.41-.59l7.78-7.78 2.81-2.81c.8-.78.8-2.07 0-2.86zM5.41 20L4 18.59l7.72-7.72 1.47 1.35L5.41 20z\"/>\n",
              "  </svg>\n",
              "      </button>\n",
              "      \n",
              "  <style>\n",
              "    .colab-df-container {\n",
              "      display:flex;\n",
              "      flex-wrap:wrap;\n",
              "      gap: 12px;\n",
              "    }\n",
              "\n",
              "    .colab-df-convert {\n",
              "      background-color: #E8F0FE;\n",
              "      border: none;\n",
              "      border-radius: 50%;\n",
              "      cursor: pointer;\n",
              "      display: none;\n",
              "      fill: #1967D2;\n",
              "      height: 32px;\n",
              "      padding: 0 0 0 0;\n",
              "      width: 32px;\n",
              "    }\n",
              "\n",
              "    .colab-df-convert:hover {\n",
              "      background-color: #E2EBFA;\n",
              "      box-shadow: 0px 1px 2px rgba(60, 64, 67, 0.3), 0px 1px 3px 1px rgba(60, 64, 67, 0.15);\n",
              "      fill: #174EA6;\n",
              "    }\n",
              "\n",
              "    [theme=dark] .colab-df-convert {\n",
              "      background-color: #3B4455;\n",
              "      fill: #D2E3FC;\n",
              "    }\n",
              "\n",
              "    [theme=dark] .colab-df-convert:hover {\n",
              "      background-color: #434B5C;\n",
              "      box-shadow: 0px 1px 3px 1px rgba(0, 0, 0, 0.15);\n",
              "      filter: drop-shadow(0px 1px 2px rgba(0, 0, 0, 0.3));\n",
              "      fill: #FFFFFF;\n",
              "    }\n",
              "  </style>\n",
              "\n",
              "      <script>\n",
              "        const buttonEl =\n",
              "          document.querySelector('#df-a88f66ee-f5c6-4d7e-bc55-764839329444 button.colab-df-convert');\n",
              "        buttonEl.style.display =\n",
              "          google.colab.kernel.accessAllowed ? 'block' : 'none';\n",
              "\n",
              "        async function convertToInteractive(key) {\n",
              "          const element = document.querySelector('#df-a88f66ee-f5c6-4d7e-bc55-764839329444');\n",
              "          const dataTable =\n",
              "            await google.colab.kernel.invokeFunction('convertToInteractive',\n",
              "                                                     [key], {});\n",
              "          if (!dataTable) return;\n",
              "\n",
              "          const docLinkHtml = 'Like what you see? Visit the ' +\n",
              "            '<a target=\"_blank\" href=https://colab.research.google.com/notebooks/data_table.ipynb>data table notebook</a>'\n",
              "            + ' to learn more about interactive tables.';\n",
              "          element.innerHTML = '';\n",
              "          dataTable['output_type'] = 'display_data';\n",
              "          await google.colab.output.renderOutput(dataTable, element);\n",
              "          const docLink = document.createElement('div');\n",
              "          docLink.innerHTML = docLinkHtml;\n",
              "          element.appendChild(docLink);\n",
              "        }\n",
              "      </script>\n",
              "    </div>\n",
              "  </div>\n",
              "  "
            ],
            "text/plain": [
              "      State  Claim Amount Response  Coverage Education EmploymentStatus  \\\n",
              "0    Kansas    276.351928       No     Basic  Bachelor         Employed   \n",
              "1  Nebraska    697.953590       No  Extended  Bachelor       Unemployed   \n",
              "2  Oklahoma   1288.743165       No   Premium  Bachelor         Employed   \n",
              "\n",
              "  Gender  Income Location Code Marital Status  Monthly Premium Auto  \\\n",
              "0      F   56274      Suburban        Married                    69   \n",
              "1      F       0      Suburban         Single                    94   \n",
              "2      F   48767      Suburban        Married                   108   \n",
              "\n",
              "   Months Since Last Claim  Months Since Policy Inception  \\\n",
              "0                       32                              5   \n",
              "1                       13                             42   \n",
              "2                       18                             38   \n",
              "\n",
              "   Number of Open Complaints  Number of Policies        Policy  Claim Reason  \\\n",
              "0                          0                   1  Corporate L3     Collision   \n",
              "1                          0                   8   Personal L3  Scratch/Dent   \n",
              "2                          0                   2   Personal L3     Collision   \n",
              "\n",
              "   Total Claim Amount  Vehicle Class Vehicle Size  \n",
              "0          384.811147   Two-Door Car      Medsize  \n",
              "1         1131.464935  Four-Door Car      Medsize  \n",
              "2          566.472247   Two-Door Car      Medsize  "
            ]
          },
          "metadata": {},
          "execution_count": 9
        }
      ],
      "source": [
        "data.head(3)"
      ]
    },
    {
      "cell_type": "code",
      "execution_count": null,
      "metadata": {
        "colab": {
          "base_uri": "https://localhost:8080/"
        },
        "id": "vr1pbNT7Ifce",
        "outputId": "25056ce8-8b4d-43c7-9534-59250ba48d25"
      },
      "outputs": [
        {
          "output_type": "stream",
          "name": "stdout",
          "text": [
            "number of duplicate rows: (163, 20)\n"
          ]
        }
      ],
      "source": [
        "duplicate_rows_df = data[data.duplicated()]\n",
        "print(\"number of duplicate rows:\", duplicate_rows_df.shape)"
      ]
    },
    {
      "cell_type": "code",
      "execution_count": null,
      "metadata": {
        "colab": {
          "base_uri": "https://localhost:8080/",
          "height": 409
        },
        "id": "Z2hznkocInYz",
        "outputId": "98d3d580-c727-4928-93c9-0b7793f4da06"
      },
      "outputs": [
        {
          "output_type": "execute_result",
          "data": {
            "text/html": [
              "\n",
              "  <div id=\"df-40ba8c2c-d909-46ca-9951-5159da1e3ad3\">\n",
              "    <div class=\"colab-df-container\">\n",
              "      <div>\n",
              "<style scoped>\n",
              "    .dataframe tbody tr th:only-of-type {\n",
              "        vertical-align: middle;\n",
              "    }\n",
              "\n",
              "    .dataframe tbody tr th {\n",
              "        vertical-align: top;\n",
              "    }\n",
              "\n",
              "    .dataframe thead th {\n",
              "        text-align: right;\n",
              "    }\n",
              "</style>\n",
              "<table border=\"1\" class=\"dataframe\">\n",
              "  <thead>\n",
              "    <tr style=\"text-align: right;\">\n",
              "      <th></th>\n",
              "      <th>State</th>\n",
              "      <th>Claim Amount</th>\n",
              "      <th>Response</th>\n",
              "      <th>Coverage</th>\n",
              "      <th>Education</th>\n",
              "      <th>EmploymentStatus</th>\n",
              "      <th>Gender</th>\n",
              "      <th>Income</th>\n",
              "      <th>Location Code</th>\n",
              "      <th>Marital Status</th>\n",
              "      <th>Monthly Premium Auto</th>\n",
              "      <th>Months Since Last Claim</th>\n",
              "      <th>Months Since Policy Inception</th>\n",
              "      <th>Number of Open Complaints</th>\n",
              "      <th>Number of Policies</th>\n",
              "      <th>Policy</th>\n",
              "      <th>Claim Reason</th>\n",
              "      <th>Total Claim Amount</th>\n",
              "      <th>Vehicle Class</th>\n",
              "      <th>Vehicle Size</th>\n",
              "    </tr>\n",
              "  </thead>\n",
              "  <tbody>\n",
              "    <tr>\n",
              "      <th>0</th>\n",
              "      <td>Kansas</td>\n",
              "      <td>276.351928</td>\n",
              "      <td>No</td>\n",
              "      <td>Basic</td>\n",
              "      <td>Bachelor</td>\n",
              "      <td>Employed</td>\n",
              "      <td>F</td>\n",
              "      <td>56274</td>\n",
              "      <td>Suburban</td>\n",
              "      <td>Married</td>\n",
              "      <td>69</td>\n",
              "      <td>32</td>\n",
              "      <td>5</td>\n",
              "      <td>0</td>\n",
              "      <td>1</td>\n",
              "      <td>Corporate L3</td>\n",
              "      <td>Collision</td>\n",
              "      <td>384.811147</td>\n",
              "      <td>Two-Door Car</td>\n",
              "      <td>Medsize</td>\n",
              "    </tr>\n",
              "    <tr>\n",
              "      <th>1</th>\n",
              "      <td>Nebraska</td>\n",
              "      <td>697.953590</td>\n",
              "      <td>No</td>\n",
              "      <td>Extended</td>\n",
              "      <td>Bachelor</td>\n",
              "      <td>Unemployed</td>\n",
              "      <td>F</td>\n",
              "      <td>0</td>\n",
              "      <td>Suburban</td>\n",
              "      <td>Single</td>\n",
              "      <td>94</td>\n",
              "      <td>13</td>\n",
              "      <td>42</td>\n",
              "      <td>0</td>\n",
              "      <td>8</td>\n",
              "      <td>Personal L3</td>\n",
              "      <td>Scratch/Dent</td>\n",
              "      <td>1131.464935</td>\n",
              "      <td>Four-Door Car</td>\n",
              "      <td>Medsize</td>\n",
              "    </tr>\n",
              "    <tr>\n",
              "      <th>2</th>\n",
              "      <td>Oklahoma</td>\n",
              "      <td>1288.743165</td>\n",
              "      <td>No</td>\n",
              "      <td>Premium</td>\n",
              "      <td>Bachelor</td>\n",
              "      <td>Employed</td>\n",
              "      <td>F</td>\n",
              "      <td>48767</td>\n",
              "      <td>Suburban</td>\n",
              "      <td>Married</td>\n",
              "      <td>108</td>\n",
              "      <td>18</td>\n",
              "      <td>38</td>\n",
              "      <td>0</td>\n",
              "      <td>2</td>\n",
              "      <td>Personal L3</td>\n",
              "      <td>Collision</td>\n",
              "      <td>566.472247</td>\n",
              "      <td>Two-Door Car</td>\n",
              "      <td>Medsize</td>\n",
              "    </tr>\n",
              "    <tr>\n",
              "      <th>3</th>\n",
              "      <td>Missouri</td>\n",
              "      <td>764.586183</td>\n",
              "      <td>No</td>\n",
              "      <td>Basic</td>\n",
              "      <td>Bachelor</td>\n",
              "      <td>Unemployed</td>\n",
              "      <td>M</td>\n",
              "      <td>0</td>\n",
              "      <td>Suburban</td>\n",
              "      <td>Married</td>\n",
              "      <td>106</td>\n",
              "      <td>18</td>\n",
              "      <td>65</td>\n",
              "      <td>0</td>\n",
              "      <td>7</td>\n",
              "      <td>Corporate L2</td>\n",
              "      <td>Collision</td>\n",
              "      <td>529.881344</td>\n",
              "      <td>SUV</td>\n",
              "      <td>Medsize</td>\n",
              "    </tr>\n",
              "    <tr>\n",
              "      <th>4</th>\n",
              "      <td>Kansas</td>\n",
              "      <td>281.369258</td>\n",
              "      <td>No</td>\n",
              "      <td>Basic</td>\n",
              "      <td>Bachelor</td>\n",
              "      <td>Employed</td>\n",
              "      <td>M</td>\n",
              "      <td>43836</td>\n",
              "      <td>Rural</td>\n",
              "      <td>Single</td>\n",
              "      <td>73</td>\n",
              "      <td>12</td>\n",
              "      <td>44</td>\n",
              "      <td>0</td>\n",
              "      <td>1</td>\n",
              "      <td>Personal L1</td>\n",
              "      <td>Collision</td>\n",
              "      <td>138.130879</td>\n",
              "      <td>Four-Door Car</td>\n",
              "      <td>Medsize</td>\n",
              "    </tr>\n",
              "  </tbody>\n",
              "</table>\n",
              "</div>\n",
              "      <button class=\"colab-df-convert\" onclick=\"convertToInteractive('df-40ba8c2c-d909-46ca-9951-5159da1e3ad3')\"\n",
              "              title=\"Convert this dataframe to an interactive table.\"\n",
              "              style=\"display:none;\">\n",
              "        \n",
              "  <svg xmlns=\"http://www.w3.org/2000/svg\" height=\"24px\"viewBox=\"0 0 24 24\"\n",
              "       width=\"24px\">\n",
              "    <path d=\"M0 0h24v24H0V0z\" fill=\"none\"/>\n",
              "    <path d=\"M18.56 5.44l.94 2.06.94-2.06 2.06-.94-2.06-.94-.94-2.06-.94 2.06-2.06.94zm-11 1L8.5 8.5l.94-2.06 2.06-.94-2.06-.94L8.5 2.5l-.94 2.06-2.06.94zm10 10l.94 2.06.94-2.06 2.06-.94-2.06-.94-.94-2.06-.94 2.06-2.06.94z\"/><path d=\"M17.41 7.96l-1.37-1.37c-.4-.4-.92-.59-1.43-.59-.52 0-1.04.2-1.43.59L10.3 9.45l-7.72 7.72c-.78.78-.78 2.05 0 2.83L4 21.41c.39.39.9.59 1.41.59.51 0 1.02-.2 1.41-.59l7.78-7.78 2.81-2.81c.8-.78.8-2.07 0-2.86zM5.41 20L4 18.59l7.72-7.72 1.47 1.35L5.41 20z\"/>\n",
              "  </svg>\n",
              "      </button>\n",
              "      \n",
              "  <style>\n",
              "    .colab-df-container {\n",
              "      display:flex;\n",
              "      flex-wrap:wrap;\n",
              "      gap: 12px;\n",
              "    }\n",
              "\n",
              "    .colab-df-convert {\n",
              "      background-color: #E8F0FE;\n",
              "      border: none;\n",
              "      border-radius: 50%;\n",
              "      cursor: pointer;\n",
              "      display: none;\n",
              "      fill: #1967D2;\n",
              "      height: 32px;\n",
              "      padding: 0 0 0 0;\n",
              "      width: 32px;\n",
              "    }\n",
              "\n",
              "    .colab-df-convert:hover {\n",
              "      background-color: #E2EBFA;\n",
              "      box-shadow: 0px 1px 2px rgba(60, 64, 67, 0.3), 0px 1px 3px 1px rgba(60, 64, 67, 0.15);\n",
              "      fill: #174EA6;\n",
              "    }\n",
              "\n",
              "    [theme=dark] .colab-df-convert {\n",
              "      background-color: #3B4455;\n",
              "      fill: #D2E3FC;\n",
              "    }\n",
              "\n",
              "    [theme=dark] .colab-df-convert:hover {\n",
              "      background-color: #434B5C;\n",
              "      box-shadow: 0px 1px 3px 1px rgba(0, 0, 0, 0.15);\n",
              "      filter: drop-shadow(0px 1px 2px rgba(0, 0, 0, 0.3));\n",
              "      fill: #FFFFFF;\n",
              "    }\n",
              "  </style>\n",
              "\n",
              "      <script>\n",
              "        const buttonEl =\n",
              "          document.querySelector('#df-40ba8c2c-d909-46ca-9951-5159da1e3ad3 button.colab-df-convert');\n",
              "        buttonEl.style.display =\n",
              "          google.colab.kernel.accessAllowed ? 'block' : 'none';\n",
              "\n",
              "        async function convertToInteractive(key) {\n",
              "          const element = document.querySelector('#df-40ba8c2c-d909-46ca-9951-5159da1e3ad3');\n",
              "          const dataTable =\n",
              "            await google.colab.kernel.invokeFunction('convertToInteractive',\n",
              "                                                     [key], {});\n",
              "          if (!dataTable) return;\n",
              "\n",
              "          const docLinkHtml = 'Like what you see? Visit the ' +\n",
              "            '<a target=\"_blank\" href=https://colab.research.google.com/notebooks/data_table.ipynb>data table notebook</a>'\n",
              "            + ' to learn more about interactive tables.';\n",
              "          element.innerHTML = '';\n",
              "          dataTable['output_type'] = 'display_data';\n",
              "          await google.colab.output.renderOutput(dataTable, element);\n",
              "          const docLink = document.createElement('div');\n",
              "          docLink.innerHTML = docLinkHtml;\n",
              "          element.appendChild(docLink);\n",
              "        }\n",
              "      </script>\n",
              "    </div>\n",
              "  </div>\n",
              "  "
            ],
            "text/plain": [
              "      State  Claim Amount Response  Coverage Education EmploymentStatus  \\\n",
              "0    Kansas    276.351928       No     Basic  Bachelor         Employed   \n",
              "1  Nebraska    697.953590       No  Extended  Bachelor       Unemployed   \n",
              "2  Oklahoma   1288.743165       No   Premium  Bachelor         Employed   \n",
              "3  Missouri    764.586183       No     Basic  Bachelor       Unemployed   \n",
              "4    Kansas    281.369258       No     Basic  Bachelor         Employed   \n",
              "\n",
              "  Gender  Income Location Code Marital Status  Monthly Premium Auto  \\\n",
              "0      F   56274      Suburban        Married                    69   \n",
              "1      F       0      Suburban         Single                    94   \n",
              "2      F   48767      Suburban        Married                   108   \n",
              "3      M       0      Suburban        Married                   106   \n",
              "4      M   43836         Rural         Single                    73   \n",
              "\n",
              "   Months Since Last Claim  Months Since Policy Inception  \\\n",
              "0                       32                              5   \n",
              "1                       13                             42   \n",
              "2                       18                             38   \n",
              "3                       18                             65   \n",
              "4                       12                             44   \n",
              "\n",
              "   Number of Open Complaints  Number of Policies        Policy  Claim Reason  \\\n",
              "0                          0                   1  Corporate L3     Collision   \n",
              "1                          0                   8   Personal L3  Scratch/Dent   \n",
              "2                          0                   2   Personal L3     Collision   \n",
              "3                          0                   7  Corporate L2     Collision   \n",
              "4                          0                   1   Personal L1     Collision   \n",
              "\n",
              "   Total Claim Amount  Vehicle Class Vehicle Size  \n",
              "0          384.811147   Two-Door Car      Medsize  \n",
              "1         1131.464935  Four-Door Car      Medsize  \n",
              "2          566.472247   Two-Door Car      Medsize  \n",
              "3          529.881344            SUV      Medsize  \n",
              "4          138.130879  Four-Door Car      Medsize  "
            ]
          },
          "metadata": {},
          "execution_count": 11
        }
      ],
      "source": [
        "data = data.drop_duplicates()\n",
        "data.head()"
      ]
    },
    {
      "cell_type": "code",
      "source": [
        "import matplotlib.pyplot as plt\n",
        "\n",
        "\n",
        "a4_dims = (11.7, 8.27)\n",
        "fig, ax = plt.subplots(figsize=a4_dims)\n",
        "g = sns.boxplot(data=data,linewidth=2.5,ax=ax)\n",
        "g.set_yscale(\"log\")"
      ],
      "metadata": {
        "colab": {
          "base_uri": "https://localhost:8080/",
          "height": 497
        },
        "id": "aW-kuyZoqARO",
        "outputId": "8f803971-ff98-4830-eb9d-41c8e4189d0e"
      },
      "execution_count": null,
      "outputs": [
        {
          "output_type": "display_data",
          "data": {
            "image/png": "[encoded data removed]",
            "text/plain": [
              "<Figure size 842.4x595.44 with 1 Axes>"
            ]
          },
          "metadata": {
            "needs_background": "light"
          }
        }
      ]
    },
    {
      "cell_type": "code",
      "source": [
        "relation =data.corr()\n",
        "relation_index=relation.index\n",
        "sns.heatmap(data[relation_index].corr(),annot=True)"
      ],
      "metadata": {
        "colab": {
          "base_uri": "https://localhost:8080/",
          "height": 425
        },
        "id": "bb0Xcpujqfx5",
        "outputId": "d1cab42d-29e1-46a4-abfc-c3cd3fa0a49d"
      },
      "execution_count": null,
      "outputs": [
        {
          "output_type": "execute_result",
          "data": {
            "text/plain": [
              "<matplotlib.axes._subplots.AxesSubplot at 0x7f271fcb6510>"
            ]
          },
          "metadata": {},
          "execution_count": 15
        },
        {
          "output_type": "display_data",
          "data": {
            "image/png": "[encoded data removed]",
            "text/plain": [
              "<Figure size 432x288 with 2 Axes>"
            ]
          },
          "metadata": {
            "needs_background": "light"
          }
        }
      ]
    },
    {
      "cell_type": "code",
      "source": [
        "data['Claim Reason'].value_counts()"
      ],
      "metadata": {
        "colab": {
          "base_uri": "https://localhost:8080/"
        },
        "id": "VdLmFJYqbiNt",
        "outputId": "d8fb649b-a56f-470d-8402-bdb83c852bdf"
      },
      "execution_count": null,
      "outputs": [
        {
          "output_type": "execute_result",
          "data": {
            "text/plain": [
              "Collision       3685\n",
              "Hail            2833\n",
              "Scratch/Dent    1429\n",
              "Other           1024\n",
              "Name: Claim Reason, dtype: int64"
            ]
          },
          "metadata": {},
          "execution_count": 53
        }
      ]
    },
    {
      "cell_type": "code",
      "execution_count": null,
      "metadata": {
        "colab": {
          "base_uri": "https://localhost:8080/",
          "height": 369
        },
        "id": "kZC7stn7XeXk",
        "outputId": "153f335d-99c6-493e-fb26-5084f131adaa"
      },
      "outputs": [
        {
          "output_type": "execute_result",
          "data": {
            "text/html": [
              "<style type=\"text/css\">\n",
              "#T_1e5e1_row0_col0, #T_1e5e1_row1_col1, #T_1e5e1_row2_col2, #T_1e5e1_row3_col3, #T_1e5e1_row4_col4, #T_1e5e1_row5_col5, #T_1e5e1_row6_col6, #T_1e5e1_row7_col7 {\n",
              "  background-color: #b40426;\n",
              "  color: #f1f1f1;\n",
              "}\n",
              "#T_1e5e1_row0_col1, #T_1e5e1_row0_col6, #T_1e5e1_row1_col0, #T_1e5e1_row6_col0 {\n",
              "  background-color: #97b8ff;\n",
              "  color: #000000;\n",
              "}\n",
              "#T_1e5e1_row0_col2, #T_1e5e1_row2_col0 {\n",
              "  background-color: #ead4c8;\n",
              "  color: #000000;\n",
              "}\n",
              "#T_1e5e1_row0_col3, #T_1e5e1_row0_col4, #T_1e5e1_row1_col5, #T_1e5e1_row2_col3, #T_1e5e1_row3_col0, #T_1e5e1_row3_col2, #T_1e5e1_row3_col6, #T_1e5e1_row3_col7, #T_1e5e1_row4_col0, #T_1e5e1_row5_col1, #T_1e5e1_row6_col3, #T_1e5e1_row7_col3 {\n",
              "  background-color: #93b5fe;\n",
              "  color: #000000;\n",
              "}\n",
              "#T_1e5e1_row0_col5, #T_1e5e1_row5_col0 {\n",
              "  background-color: #88abfd;\n",
              "  color: #000000;\n",
              "}\n",
              "#T_1e5e1_row0_col7, #T_1e5e1_row7_col0 {\n",
              "  background-color: #cad8ef;\n",
              "  color: #000000;\n",
              "}\n",
              "#T_1e5e1_row1_col2, #T_1e5e1_row2_col1, #T_1e5e1_row2_col5, #T_1e5e1_row4_col6, #T_1e5e1_row5_col2, #T_1e5e1_row5_col7, #T_1e5e1_row6_col4, #T_1e5e1_row7_col5 {\n",
              "  background-color: #8db0fe;\n",
              "  color: #000000;\n",
              "}\n",
              "#T_1e5e1_row1_col3, #T_1e5e1_row3_col1 {\n",
              "  background-color: #8badfd;\n",
              "  color: #000000;\n",
              "}\n",
              "#T_1e5e1_row1_col4, #T_1e5e1_row4_col1, #T_1e5e1_row4_col5, #T_1e5e1_row5_col4, #T_1e5e1_row5_col6, #T_1e5e1_row6_col5, #T_1e5e1_row6_col7, #T_1e5e1_row7_col6 {\n",
              "  background-color: #90b2fe;\n",
              "  color: #000000;\n",
              "}\n",
              "#T_1e5e1_row1_col6, #T_1e5e1_row2_col6, #T_1e5e1_row6_col1, #T_1e5e1_row6_col2 {\n",
              "  background-color: #8fb1fe;\n",
              "  color: #000000;\n",
              "}\n",
              "#T_1e5e1_row1_col7, #T_1e5e1_row7_col1 {\n",
              "  background-color: #3b4cc0;\n",
              "  color: #f1f1f1;\n",
              "}\n",
              "#T_1e5e1_row2_col4, #T_1e5e1_row4_col2 {\n",
              "  background-color: #96b7ff;\n",
              "  color: #000000;\n",
              "}\n",
              "#T_1e5e1_row2_col7, #T_1e5e1_row7_col2 {\n",
              "  background-color: #f6a283;\n",
              "  color: #000000;\n",
              "}\n",
              "#T_1e5e1_row3_col4, #T_1e5e1_row4_col3 {\n",
              "  background-color: #86a9fc;\n",
              "  color: #f1f1f1;\n",
              "}\n",
              "#T_1e5e1_row3_col5, #T_1e5e1_row4_col7, #T_1e5e1_row5_col3, #T_1e5e1_row7_col4 {\n",
              "  background-color: #92b4fe;\n",
              "  color: #000000;\n",
              "}\n",
              "</style>\n",
              "<table id=\"T_1e5e1_\" class=\"dataframe\">\n",
              "  <thead>\n",
              "    <tr>\n",
              "      <th class=\"blank level0\" >&nbsp;</th>\n",
              "      <th class=\"col_heading level0 col0\" >Claim Amount</th>\n",
              "      <th class=\"col_heading level0 col1\" >Income</th>\n",
              "      <th class=\"col_heading level0 col2\" >Monthly Premium Auto</th>\n",
              "      <th class=\"col_heading level0 col3\" >Months Since Last Claim</th>\n",
              "      <th class=\"col_heading level0 col4\" >Months Since Policy Inception</th>\n",
              "      <th class=\"col_heading level0 col5\" >Number of Open Complaints</th>\n",
              "      <th class=\"col_heading level0 col6\" >Number of Policies</th>\n",
              "      <th class=\"col_heading level0 col7\" >Total Claim Amount</th>\n",
              "    </tr>\n",
              "  </thead>\n",
              "  <tbody>\n",
              "    <tr>\n",
              "      <th id=\"T_1e5e1_level0_row0\" class=\"row_heading level0 row0\" >Claim Amount</th>\n",
              "      <td id=\"T_1e5e1_row0_col0\" class=\"data row0 col0\" >1.000000</td>\n",
              "      <td id=\"T_1e5e1_row0_col1\" class=\"data row0 col1\" >0.025332</td>\n",
              "      <td id=\"T_1e5e1_row0_col2\" class=\"data row0 col2\" >0.398702</td>\n",
              "      <td id=\"T_1e5e1_row0_col3\" class=\"data row0 col3\" >0.008609</td>\n",
              "      <td id=\"T_1e5e1_row0_col4\" class=\"data row0 col4\" >0.008715</td>\n",
              "      <td id=\"T_1e5e1_row0_col5\" class=\"data row0 col5\" >-0.037128</td>\n",
              "      <td id=\"T_1e5e1_row0_col6\" class=\"data row0 col6\" >0.022039</td>\n",
              "      <td id=\"T_1e5e1_row0_col7\" class=\"data row0 col7\" >0.227534</td>\n",
              "    </tr>\n",
              "    <tr>\n",
              "      <th id=\"T_1e5e1_level0_row1\" class=\"row_heading level0 row1\" >Income</th>\n",
              "      <td id=\"T_1e5e1_row1_col0\" class=\"data row1 col0\" >0.025332</td>\n",
              "      <td id=\"T_1e5e1_row1_col1\" class=\"data row1 col1\" >1.000000</td>\n",
              "      <td id=\"T_1e5e1_row1_col2\" class=\"data row1 col2\" >-0.016478</td>\n",
              "      <td id=\"T_1e5e1_row1_col3\" class=\"data row1 col3\" >-0.026008</td>\n",
              "      <td id=\"T_1e5e1_row1_col4\" class=\"data row1 col4\" >-0.001438</td>\n",
              "      <td id=\"T_1e5e1_row1_col5\" class=\"data row1 col5\" >0.008091</td>\n",
              "      <td id=\"T_1e5e1_row1_col6\" class=\"data row1 col6\" >-0.007824</td>\n",
              "      <td id=\"T_1e5e1_row1_col7\" class=\"data row1 col7\" >-0.355936</td>\n",
              "    </tr>\n",
              "    <tr>\n",
              "      <th id=\"T_1e5e1_level0_row2\" class=\"row_heading level0 row2\" >Monthly Premium Auto</th>\n",
              "      <td id=\"T_1e5e1_row2_col0\" class=\"data row2 col0\" >0.398702</td>\n",
              "      <td id=\"T_1e5e1_row2_col1\" class=\"data row2 col1\" >-0.016478</td>\n",
              "      <td id=\"T_1e5e1_row2_col2\" class=\"data row2 col2\" >1.000000</td>\n",
              "      <td id=\"T_1e5e1_row2_col3\" class=\"data row2 col3\" >0.005730</td>\n",
              "      <td id=\"T_1e5e1_row2_col4\" class=\"data row2 col4\" >0.019598</td>\n",
              "      <td id=\"T_1e5e1_row2_col5\" class=\"data row2 col5\" >-0.013546</td>\n",
              "      <td id=\"T_1e5e1_row2_col6\" class=\"data row2 col6\" >-0.009477</td>\n",
              "      <td id=\"T_1e5e1_row2_col7\" class=\"data row2 col7\" >0.630994</td>\n",
              "    </tr>\n",
              "    <tr>\n",
              "      <th id=\"T_1e5e1_level0_row3\" class=\"row_heading level0 row3\" >Months Since Last Claim</th>\n",
              "      <td id=\"T_1e5e1_row3_col0\" class=\"data row3 col0\" >0.008609</td>\n",
              "      <td id=\"T_1e5e1_row3_col1\" class=\"data row3 col1\" >-0.026008</td>\n",
              "      <td id=\"T_1e5e1_row3_col2\" class=\"data row3 col2\" >0.005730</td>\n",
              "      <td id=\"T_1e5e1_row3_col3\" class=\"data row3 col3\" >1.000000</td>\n",
              "      <td id=\"T_1e5e1_row3_col4\" class=\"data row3 col4\" >-0.043088</td>\n",
              "      <td id=\"T_1e5e1_row3_col5\" class=\"data row3 col5\" >0.001899</td>\n",
              "      <td id=\"T_1e5e1_row3_col6\" class=\"data row3 col6\" >0.006098</td>\n",
              "      <td id=\"T_1e5e1_row3_col7\" class=\"data row3 col7\" >0.009106</td>\n",
              "    </tr>\n",
              "    <tr>\n",
              "      <th id=\"T_1e5e1_level0_row4\" class=\"row_heading level0 row4\" >Months Since Policy Inception</th>\n",
              "      <td id=\"T_1e5e1_row4_col0\" class=\"data row4 col0\" >0.008715</td>\n",
              "      <td id=\"T_1e5e1_row4_col1\" class=\"data row4 col1\" >-0.001438</td>\n",
              "      <td id=\"T_1e5e1_row4_col2\" class=\"data row4 col2\" >0.019598</td>\n",
              "      <td id=\"T_1e5e1_row4_col3\" class=\"data row4 col3\" >-0.043088</td>\n",
              "      <td id=\"T_1e5e1_row4_col4\" class=\"data row4 col4\" >1.000000</td>\n",
              "      <td id=\"T_1e5e1_row4_col5\" class=\"data row4 col5\" >-0.003693</td>\n",
              "      <td id=\"T_1e5e1_row4_col6\" class=\"data row4 col6\" >-0.012592</td>\n",
              "      <td id=\"T_1e5e1_row4_col7\" class=\"data row4 col7\" >0.003236</td>\n",
              "    </tr>\n",
              "    <tr>\n",
              "      <th id=\"T_1e5e1_level0_row5\" class=\"row_heading level0 row5\" >Number of Open Complaints</th>\n",
              "      <td id=\"T_1e5e1_row5_col0\" class=\"data row5 col0\" >-0.037128</td>\n",
              "      <td id=\"T_1e5e1_row5_col1\" class=\"data row5 col1\" >0.008091</td>\n",
              "      <td id=\"T_1e5e1_row5_col2\" class=\"data row5 col2\" >-0.013546</td>\n",
              "      <td id=\"T_1e5e1_row5_col3\" class=\"data row5 col3\" >0.001899</td>\n",
              "      <td id=\"T_1e5e1_row5_col4\" class=\"data row5 col4\" >-0.003693</td>\n",
              "      <td id=\"T_1e5e1_row5_col5\" class=\"data row5 col5\" >1.000000</td>\n",
              "      <td id=\"T_1e5e1_row5_col6\" class=\"data row5 col6\" >-0.002128</td>\n",
              "      <td id=\"T_1e5e1_row5_col7\" class=\"data row5 col7\" >-0.015620</td>\n",
              "    </tr>\n",
              "    <tr>\n",
              "      <th id=\"T_1e5e1_level0_row6\" class=\"row_heading level0 row6\" >Number of Policies</th>\n",
              "      <td id=\"T_1e5e1_row6_col0\" class=\"data row6 col0\" >0.022039</td>\n",
              "      <td id=\"T_1e5e1_row6_col1\" class=\"data row6 col1\" >-0.007824</td>\n",
              "      <td id=\"T_1e5e1_row6_col2\" class=\"data row6 col2\" >-0.009477</td>\n",
              "      <td id=\"T_1e5e1_row6_col3\" class=\"data row6 col3\" >0.006098</td>\n",
              "      <td id=\"T_1e5e1_row6_col4\" class=\"data row6 col4\" >-0.012592</td>\n",
              "      <td id=\"T_1e5e1_row6_col5\" class=\"data row6 col5\" >-0.002128</td>\n",
              "      <td id=\"T_1e5e1_row6_col6\" class=\"data row6 col6\" >1.000000</td>\n",
              "      <td id=\"T_1e5e1_row6_col7\" class=\"data row6 col7\" >-0.002472</td>\n",
              "    </tr>\n",
              "    <tr>\n",
              "      <th id=\"T_1e5e1_level0_row7\" class=\"row_heading level0 row7\" >Total Claim Amount</th>\n",
              "      <td id=\"T_1e5e1_row7_col0\" class=\"data row7 col0\" >0.227534</td>\n",
              "      <td id=\"T_1e5e1_row7_col1\" class=\"data row7 col1\" >-0.355936</td>\n",
              "      <td id=\"T_1e5e1_row7_col2\" class=\"data row7 col2\" >0.630994</td>\n",
              "      <td id=\"T_1e5e1_row7_col3\" class=\"data row7 col3\" >0.009106</td>\n",
              "      <td id=\"T_1e5e1_row7_col4\" class=\"data row7 col4\" >0.003236</td>\n",
              "      <td id=\"T_1e5e1_row7_col5\" class=\"data row7 col5\" >-0.015620</td>\n",
              "      <td id=\"T_1e5e1_row7_col6\" class=\"data row7 col6\" >-0.002472</td>\n",
              "      <td id=\"T_1e5e1_row7_col7\" class=\"data row7 col7\" >1.000000</td>\n",
              "    </tr>\n",
              "  </tbody>\n",
              "</table>\n"
            ],
            "text/plain": [
              "<pandas.io.formats.style.Styler at 0x7f07bc744f10>"
            ]
          },
          "metadata": {},
          "execution_count": 40
        }
      ],
      "source": [
        "correlation = data.corr()\n",
        "correlation.style.background_gradient(cmap='coolwarm',axis=None)"
      ]
    },
    {
      "cell_type": "code",
      "source": [
        "plt.figure(figsize=(15,8))\n",
        "plt.xticks(fontsize=20)\n",
        "plt.yticks(fontsize=20)\n",
        "plt.xlabel('Monthly Premium Auto' ,fontsize=20)\n",
        "plt.ylabel('Claim Amount', fontsize=20)\n",
        "\n",
        "# g = sns.countplot(x='Claim Reason',data=data[data['Claim Amount']>0], ax=ax2);\n",
        "# title = g.set_title('Values nulles exclues');\n",
        "\n",
        "plt.scatter(data['Monthly Premium Auto'],data['Claim Amount'],linewidth = '10.5')\n",
        "# plt.savefig('Income')"
      ],
      "metadata": {
        "colab": {
          "base_uri": "https://localhost:8080/",
          "height": 533
        },
        "id": "DwASzewshBfh",
        "outputId": "ffba6ec6-c048-4e99-eeb7-afdc4249bcc2"
      },
      "execution_count": null,
      "outputs": [
        {
          "output_type": "execute_result",
          "data": {
            "text/plain": [
              "<matplotlib.collections.PathCollection at 0x7f07b5310ed0>"
            ]
          },
          "metadata": {},
          "execution_count": 69
        },
        {
          "output_type": "display_data",
          "data": {
            "image/png": "[encoded data removed]",
            "text/plain": [
              "<Figure size 1080x576 with 1 Axes>"
            ]
          },
          "metadata": {
            "needs_background": "light"
          }
        }
      ]
    },
    {
      "cell_type": "code",
      "source": [
        "plt.figure(figsize=(15,8))\n",
        "plt.xticks(fontsize=20)\n",
        "plt.yticks(fontsize=20)\n",
        "plt.xlabel('Vehicle Size' ,fontsize=20)\n",
        "plt.ylabel('Claim Amount', fontsize=20)\n",
        "\n",
        "# g = sns.countplot(x='Claim Reason',data=data[data['Claim Amount']>0], ax=ax2);\n",
        "# title = g.set_title('Values nulles exclues');\n",
        "\n",
        "plt.scatter(data['Vehicle Size'],data['Claim Amount'],linewidth = '10.5')\n",
        "plt.savefig('Vehicle Size')"
      ],
      "metadata": {
        "colab": {
          "base_uri": "https://localhost:8080/",
          "height": 515
        },
        "id": "zmtrPtyZgY5e",
        "outputId": "36a7833a-cef4-402a-f6a9-db863a2035da"
      },
      "execution_count": null,
      "outputs": [
        {
          "output_type": "display_data",
          "data": {
            "image/png": "[encoded data removed]",
            "text/plain": [
              "<Figure size 1080x576 with 1 Axes>"
            ]
          },
          "metadata": {
            "needs_background": "light"
          }
        }
      ]
    },
    {
      "cell_type": "code",
      "source": [
        "plt.figure(figsize=(15,8))\n",
        "plt.xticks(fontsize=20)\n",
        "plt.yticks(fontsize=20)\n",
        "plt.xlabel('EmploymentStatus' ,fontsize=20)\n",
        "plt.ylabel('Claim Amount', fontsize=20)\n",
        "\n",
        "# g = sns.countplot(x='Claim Reason',data=data[data['Claim Amount']>0], ax=ax2);\n",
        "# title = g.set_title('Values nulles exclues');\n",
        "\n",
        "plt.bar(data['EmploymentStatus'],data['Claim Amount'],linewidth = '10.5')\n",
        "plt.savefig('EmploymentStatus')\n",
        "# plt.grid()"
      ],
      "metadata": {
        "colab": {
          "base_uri": "https://localhost:8080/",
          "height": 515
        },
        "id": "vUuf5mt1ehbe",
        "outputId": "2eed0873-32e6-4be1-c0f8-99df9002e186"
      },
      "execution_count": null,
      "outputs": [
        {
          "output_type": "display_data",
          "data": {
            "image/png": "[encoded data removed]",
            "text/plain": [
              "<Figure size 1080x576 with 1 Axes>"
            ]
          },
          "metadata": {
            "needs_background": "light"
          }
        }
      ]
    },
    {
      "cell_type": "code",
      "execution_count": null,
      "metadata": {
        "colab": {
          "base_uri": "https://localhost:8080/",
          "height": 300
        },
        "id": "fS-91yGnU2PX",
        "outputId": "ad6afaaa-e192-4223-94c7-7105380f71ab"
      },
      "outputs": [
        {
          "output_type": "execute_result",
          "data": {
            "text/html": [
              "\n",
              "  <div id=\"df-b7341d30-ffa6-4a75-9096-366b813b7c22\">\n",
              "    <div class=\"colab-df-container\">\n",
              "      <div>\n",
              "<style scoped>\n",
              "    .dataframe tbody tr th:only-of-type {\n",
              "        vertical-align: middle;\n",
              "    }\n",
              "\n",
              "    .dataframe tbody tr th {\n",
              "        vertical-align: top;\n",
              "    }\n",
              "\n",
              "    .dataframe thead th {\n",
              "        text-align: right;\n",
              "    }\n",
              "</style>\n",
              "<table border=\"1\" class=\"dataframe\">\n",
              "  <thead>\n",
              "    <tr style=\"text-align: right;\">\n",
              "      <th></th>\n",
              "      <th>count</th>\n",
              "      <th>mean</th>\n",
              "      <th>std</th>\n",
              "      <th>min</th>\n",
              "      <th>25%</th>\n",
              "      <th>50%</th>\n",
              "      <th>75%</th>\n",
              "      <th>max</th>\n",
              "    </tr>\n",
              "  </thead>\n",
              "  <tbody>\n",
              "    <tr>\n",
              "      <th>Claim Amount</th>\n",
              "      <td>8971.0</td>\n",
              "      <td>800.419232</td>\n",
              "      <td>686.794104</td>\n",
              "      <td>189.800768</td>\n",
              "      <td>399.94977</td>\n",
              "      <td>579.243959</td>\n",
              "      <td>895.463711</td>\n",
              "      <td>8332.538119</td>\n",
              "    </tr>\n",
              "    <tr>\n",
              "      <th>Income</th>\n",
              "      <td>8971.0</td>\n",
              "      <td>37644.828113</td>\n",
              "      <td>30431.741597</td>\n",
              "      <td>0.000000</td>\n",
              "      <td>0.00000</td>\n",
              "      <td>33947.000000</td>\n",
              "      <td>62365.500000</td>\n",
              "      <td>99981.000000</td>\n",
              "    </tr>\n",
              "    <tr>\n",
              "      <th>Monthly Premium Auto</th>\n",
              "      <td>8971.0</td>\n",
              "      <td>93.192621</td>\n",
              "      <td>34.358960</td>\n",
              "      <td>61.000000</td>\n",
              "      <td>68.00000</td>\n",
              "      <td>83.000000</td>\n",
              "      <td>109.000000</td>\n",
              "      <td>298.000000</td>\n",
              "    </tr>\n",
              "    <tr>\n",
              "      <th>Months Since Last Claim</th>\n",
              "      <td>8971.0</td>\n",
              "      <td>15.099209</td>\n",
              "      <td>10.077668</td>\n",
              "      <td>0.000000</td>\n",
              "      <td>6.00000</td>\n",
              "      <td>14.000000</td>\n",
              "      <td>23.000000</td>\n",
              "      <td>35.000000</td>\n",
              "    </tr>\n",
              "    <tr>\n",
              "      <th>Months Since Policy Inception</th>\n",
              "      <td>8971.0</td>\n",
              "      <td>48.054175</td>\n",
              "      <td>27.916442</td>\n",
              "      <td>0.000000</td>\n",
              "      <td>24.00000</td>\n",
              "      <td>48.000000</td>\n",
              "      <td>71.000000</td>\n",
              "      <td>99.000000</td>\n",
              "    </tr>\n",
              "    <tr>\n",
              "      <th>Number of Open Complaints</th>\n",
              "      <td>8971.0</td>\n",
              "      <td>0.385241</td>\n",
              "      <td>0.909666</td>\n",
              "      <td>0.000000</td>\n",
              "      <td>0.00000</td>\n",
              "      <td>0.000000</td>\n",
              "      <td>0.000000</td>\n",
              "      <td>5.000000</td>\n",
              "    </tr>\n",
              "    <tr>\n",
              "      <th>Number of Policies</th>\n",
              "      <td>8971.0</td>\n",
              "      <td>2.970349</td>\n",
              "      <td>2.391832</td>\n",
              "      <td>1.000000</td>\n",
              "      <td>1.00000</td>\n",
              "      <td>2.000000</td>\n",
              "      <td>4.000000</td>\n",
              "      <td>9.000000</td>\n",
              "    </tr>\n",
              "    <tr>\n",
              "      <th>Total Claim Amount</th>\n",
              "      <td>8971.0</td>\n",
              "      <td>433.886437</td>\n",
              "      <td>291.074428</td>\n",
              "      <td>0.099007</td>\n",
              "      <td>270.47269</td>\n",
              "      <td>383.442328</td>\n",
              "      <td>547.988754</td>\n",
              "      <td>2893.239678</td>\n",
              "    </tr>\n",
              "  </tbody>\n",
              "</table>\n",
              "</div>\n",
              "      <button class=\"colab-df-convert\" onclick=\"convertToInteractive('df-b7341d30-ffa6-4a75-9096-366b813b7c22')\"\n",
              "              title=\"Convert this dataframe to an interactive table.\"\n",
              "              style=\"display:none;\">\n",
              "        \n",
              "  <svg xmlns=\"http://www.w3.org/2000/svg\" height=\"24px\"viewBox=\"0 0 24 24\"\n",
              "       width=\"24px\">\n",
              "    <path d=\"M0 0h24v24H0V0z\" fill=\"none\"/>\n",
              "    <path d=\"M18.56 5.44l.94 2.06.94-2.06 2.06-.94-2.06-.94-.94-2.06-.94 2.06-2.06.94zm-11 1L8.5 8.5l.94-2.06 2.06-.94-2.06-.94L8.5 2.5l-.94 2.06-2.06.94zm10 10l.94 2.06.94-2.06 2.06-.94-2.06-.94-.94-2.06-.94 2.06-2.06.94z\"/><path d=\"M17.41 7.96l-1.37-1.37c-.4-.4-.92-.59-1.43-.59-.52 0-1.04.2-1.43.59L10.3 9.45l-7.72 7.72c-.78.78-.78 2.05 0 2.83L4 21.41c.39.39.9.59 1.41.59.51 0 1.02-.2 1.41-.59l7.78-7.78 2.81-2.81c.8-.78.8-2.07 0-2.86zM5.41 20L4 18.59l7.72-7.72 1.47 1.35L5.41 20z\"/>\n",
              "  </svg>\n",
              "      </button>\n",
              "      \n",
              "  <style>\n",
              "    .colab-df-container {\n",
              "      display:flex;\n",
              "      flex-wrap:wrap;\n",
              "      gap: 12px;\n",
              "    }\n",
              "\n",
              "    .colab-df-convert {\n",
              "      background-color: #E8F0FE;\n",
              "      border: none;\n",
              "      border-radius: 50%;\n",
              "      cursor: pointer;\n",
              "      display: none;\n",
              "      fill: #1967D2;\n",
              "      height: 32px;\n",
              "      padding: 0 0 0 0;\n",
              "      width: 32px;\n",
              "    }\n",
              "\n",
              "    .colab-df-convert:hover {\n",
              "      background-color: #E2EBFA;\n",
              "      box-shadow: 0px 1px 2px rgba(60, 64, 67, 0.3), 0px 1px 3px 1px rgba(60, 64, 67, 0.15);\n",
              "      fill: #174EA6;\n",
              "    }\n",
              "\n",
              "    [theme=dark] .colab-df-convert {\n",
              "      background-color: #3B4455;\n",
              "      fill: #D2E3FC;\n",
              "    }\n",
              "\n",
              "    [theme=dark] .colab-df-convert:hover {\n",
              "      background-color: #434B5C;\n",
              "      box-shadow: 0px 1px 3px 1px rgba(0, 0, 0, 0.15);\n",
              "      filter: drop-shadow(0px 1px 2px rgba(0, 0, 0, 0.3));\n",
              "      fill: #FFFFFF;\n",
              "    }\n",
              "  </style>\n",
              "\n",
              "      <script>\n",
              "        const buttonEl =\n",
              "          document.querySelector('#df-b7341d30-ffa6-4a75-9096-366b813b7c22 button.colab-df-convert');\n",
              "        buttonEl.style.display =\n",
              "          google.colab.kernel.accessAllowed ? 'block' : 'none';\n",
              "\n",
              "        async function convertToInteractive(key) {\n",
              "          const element = document.querySelector('#df-b7341d30-ffa6-4a75-9096-366b813b7c22');\n",
              "          const dataTable =\n",
              "            await google.colab.kernel.invokeFunction('convertToInteractive',\n",
              "                                                     [key], {});\n",
              "          if (!dataTable) return;\n",
              "\n",
              "          const docLinkHtml = 'Like what you see? Visit the ' +\n",
              "            '<a target=\"_blank\" href=https://colab.research.google.com/notebooks/data_table.ipynb>data table notebook</a>'\n",
              "            + ' to learn more about interactive tables.';\n",
              "          element.innerHTML = '';\n",
              "          dataTable['output_type'] = 'display_data';\n",
              "          await google.colab.output.renderOutput(dataTable, element);\n",
              "          const docLink = document.createElement('div');\n",
              "          docLink.innerHTML = docLinkHtml;\n",
              "          element.appendChild(docLink);\n",
              "        }\n",
              "      </script>\n",
              "    </div>\n",
              "  </div>\n",
              "  "
            ],
            "text/plain": [
              "                                count          mean  ...           75%           max\n",
              "Claim Amount                   8971.0    800.419232  ...    895.463711   8332.538119\n",
              "Income                         8971.0  37644.828113  ...  62365.500000  99981.000000\n",
              "Monthly Premium Auto           8971.0     93.192621  ...    109.000000    298.000000\n",
              "Months Since Last Claim        8971.0     15.099209  ...     23.000000     35.000000\n",
              "Months Since Policy Inception  8971.0     48.054175  ...     71.000000     99.000000\n",
              "Number of Open Complaints      8971.0      0.385241  ...      0.000000      5.000000\n",
              "Number of Policies             8971.0      2.970349  ...      4.000000      9.000000\n",
              "Total Claim Amount             8971.0    433.886437  ...    547.988754   2893.239678\n",
              "\n",
              "[8 rows x 8 columns]"
            ]
          },
          "metadata": {},
          "execution_count": 41
        }
      ],
      "source": [
        "data.describe().T"
      ]
    },
    {
      "cell_type": "code",
      "execution_count": null,
      "metadata": {
        "colab": {
          "base_uri": "https://localhost:8080/",
          "height": 279
        },
        "id": "3Q6rIyzDIw--",
        "outputId": "a84008e5-7136-4dda-fe73-3d36e9769824"
      },
      "outputs": [
        {
          "output_type": "display_data",
          "data": {
            "image/png": "[encoded data removed]",
            "text/plain": [
              "<Figure size 432x288 with 1 Axes>"
            ]
          },
          "metadata": {
            "needs_background": "light"
          }
        }
      ],
      "source": [
        "sns.countplot(x='Response',data=data);"
      ]
    },
    {
      "cell_type": "markdown",
      "metadata": {
        "id": "VTNwRvzxI44e"
      },
      "source": [
        ">* Comme vous pouvez le voir, les non survenances du sinistre l’emportent de loin\n",
        "sur les survenances du sinistre."
      ]
    },
    {
      "cell_type": "code",
      "execution_count": null,
      "metadata": {
        "colab": {
          "base_uri": "https://localhost:8080/",
          "height": 1000
        },
        "id": "5AnQsritJCHk",
        "outputId": "29ca9278-fa67-445f-ec8e-82eac0061a11"
      },
      "outputs": [
        {
          "output_type": "display_data",
          "data": {
            "image/png": "[encoded data removed]",
            "text/plain": [
              "<Figure size 1440x1440 with 9 Axes>"
            ]
          },
          "metadata": {
            "needs_background": "light"
          }
        }
      ],
      "source": [
        "data.hist(figsize=(20,20))\n",
        "plt.show()"
      ]
    },
    {
      "cell_type": "markdown",
      "metadata": {
        "id": "HD8XXIzZJN1t"
      },
      "source": [
        ">* Les graphiques ci-dessus laisse sortir une particularité dans nos données , que nous\n",
        "allons étudier dans la suite de ce travaille."
      ]
    },
    {
      "cell_type": "code",
      "execution_count": null,
      "metadata": {
        "colab": {
          "base_uri": "https://localhost:8080/",
          "height": 241
        },
        "id": "z850YvIhJTiu",
        "outputId": "a6ea67df-5a5b-4074-ff26-db3b53ecfacc"
      },
      "outputs": [
        {
          "output_type": "display_data",
          "data": {
            "image/png": "[encoded data removed]",
            "text/plain": [
              "<Figure size 720x216 with 2 Axes>"
            ]
          },
          "metadata": {
            "needs_background": "light"
          }
        }
      ],
      "source": [
        "fig, (ax1, ax2) = plt.subplots(ncols=2)\n",
        "fig.set_size_inches(10,3)\n",
        "g = sns.countplot(x='Gender',data=data.sort_values('Gender'), ax=ax1)\n",
        "title = g.set_title('Données générales')\n",
        "g = sns.countplot(x='Gender',data=data[data['Claim Amount']>0].sort_values('Gender'), ax=ax2)\n",
        "title = g.set_title('Valeurs nulles exclues')"
      ]
    },
    {
      "cell_type": "code",
      "execution_count": null,
      "metadata": {
        "colab": {
          "base_uri": "https://localhost:8080/",
          "height": 241
        },
        "id": "DZNZ1MEmKNt8",
        "outputId": "0c3a9af2-f950-4c52-c9e8-efdc3ebeab86"
      },
      "outputs": [
        {
          "output_type": "display_data",
          "data": {
            "image/png": "[encoded data removed]",
            "text/plain": [
              "<Figure size 720x216 with 2 Axes>"
            ]
          },
          "metadata": {
            "needs_background": "light"
          }
        }
      ],
      "source": [
        "fig, (ax1, ax2) = plt.subplots(ncols=2);\n",
        "fig.set_size_inches(10,3);\n",
        "g = sns.countplot(x='Claim Reason',data=data, ax=ax1);\n",
        "title = g.set_title('Données générales');\n",
        "g = sns.countplot(x='Claim Reason',data=data[data['Claim Amount']>0], ax=ax2);\n",
        "title = g.set_title('Values nulles exclues');"
      ]
    },
    {
      "cell_type": "code",
      "source": [
        "fig, (ax1) = plt.subplots(ncols=1);\n",
        "fig.set_size_inches(10,6);\n",
        "g = sns.countplot(x='Claim Reason',data=data, ax=ax1);\n",
        "# title = g.set_title('Données générales',fontsize=20);\n",
        "plt.xticks(fontsize=20)\n",
        "plt.yticks(fontsize=20)\n",
        "plt.xlabel('Claim Reason' ,fontsize=20)\n",
        "plt.ylabel('count', fontsize=20)\n",
        "\n",
        "# g = sns.countplot(x='Claim Reason',data=data[data['Claim Amount']>0], ax=ax2);\n",
        "# title = g.set_title('Values nulles exclues');\n",
        "plt.savefig('Claim Reason')"
      ],
      "metadata": {
        "colab": {
          "base_uri": "https://localhost:8080/",
          "height": 406
        },
        "id": "sMLmeoLEUbuE",
        "outputId": "7d0e62b5-c1d1-4939-ff3b-fca39e3d9d83"
      },
      "execution_count": null,
      "outputs": [
        {
          "output_type": "display_data",
          "data": {
            "image/png": "[encoded data removed]",
            "text/plain": [
              "<Figure size 720x432 with 1 Axes>"
            ]
          },
          "metadata": {
            "needs_background": "light"
          }
        }
      ]
    },
    {
      "cell_type": "code",
      "execution_count": null,
      "metadata": {
        "colab": {
          "base_uri": "https://localhost:8080/",
          "height": 241
        },
        "id": "jwrNImh8Kv6R",
        "outputId": "a25b4db4-b5b7-425a-fbfd-abeb9008697e"
      },
      "outputs": [
        {
          "output_type": "display_data",
          "data": {
            "image/png": "[encoded data removed]",
            "text/plain": [
              "<Figure size 720x216 with 2 Axes>"
            ]
          },
          "metadata": {
            "needs_background": "light"
          }
        }
      ],
      "source": [
        "# Vehicle Age\n",
        "fig, (ax1, ax2) = plt.subplots(ncols=2)\n",
        "fig.set_size_inches(10,3)\n",
        "g = sns.countplot(x='Vehicle Size',data=data,ax=ax1)\n",
        "title = g.set_title('Données générales')\n",
        "g = sns.countplot(x='Vehicle Size',data=data[data['Total Claim Amount']>0], ax=ax2)\n",
        "title = g.set_title('Values nulles exclues')"
      ]
    },
    {
      "cell_type": "code",
      "execution_count": null,
      "metadata": {
        "id": "Wx2T0kcwLUoL"
      },
      "outputs": [],
      "source": [
        "df4 = data[data.Response == 'Yes']"
      ]
    },
    {
      "cell_type": "markdown",
      "metadata": {
        "id": "WOoscg7KLq6q"
      },
      "source": [
        "# Suppression des observations au-delà du 99e centile du coût de la réclamation"
      ]
    },
    {
      "cell_type": "code",
      "execution_count": null,
      "metadata": {
        "id": "e8QuIjq6LfN5"
      },
      "outputs": [],
      "source": [
        "df_excl_0_99 = df4[df4['Claim Amount'] < np.percentile(df4['Claim Amount'],99)]"
      ]
    },
    {
      "cell_type": "markdown",
      "metadata": {
        "id": "pC4litXxLyME"
      },
      "source": [
        "# Tracé de densité et histogramme de tous les retards d’arrivée"
      ]
    },
    {
      "cell_type": "code",
      "execution_count": null,
      "metadata": {
        "colab": {
          "base_uri": "https://localhost:8080/",
          "height": 406
        },
        "id": "zyBY7cNpLuZq",
        "outputId": "ffb12a08-2a29-40c1-b170-48d1d1fd65a8"
      },
      "outputs": [
        {
          "output_type": "display_data",
          "data": {
            "image/png": "[encoded data removed]",
            "text/plain": [
              "<Figure size 720x432 with 1 Axes>"
            ]
          },
          "metadata": {
            "needs_background": "light"
          }
        }
      ],
      "source": [
        "plt.figure(figsize=(10,6))\n",
        "sns.distplot(df_excl_0_99['Claim Amount'], hist=True, kde=True,\n",
        "bins=10,\n",
        "color = 'darkblue',\n",
        "hist_kws={'edgecolor':'black'},\n",
        "kde_kws={'linewidth': 2});\n",
        "plt.xticks(fontsize=20)\n",
        "plt.yticks(fontsize=20)\n",
        "plt.xlabel('Claim Amount' ,fontsize=20)\n",
        "plt.ylabel('Density', fontsize=20)\n",
        "plt.savefig('sinistre.png')"
      ]
    },
    {
      "cell_type": "code",
      "execution_count": null,
      "metadata": {
        "colab": {
          "base_uri": "https://localhost:8080/",
          "height": 483
        },
        "id": "_pqKqef5L8sp",
        "outputId": "9b4b6b1e-ad03-4890-e91b-131646f14c0f"
      },
      "outputs": [
        {
          "data": {
            "image/png": "[encoded data removed]",
            "text/plain": [
              "<Figure size 360x576 with 1 Axes>"
            ]
          },
          "metadata": {},
          "output_type": "display_data"
        }
      ],
      "source": [
        "# Create a figure instance\n",
        "fig = plt.figure(1, figsize=(5, 8))\n",
        "\n",
        "# Create an axes instance\n",
        "ax = fig.add_subplot(111)\n",
        "\n",
        "# Create the boxplot\n",
        "bp = ax.boxplot(df_excl_0_99['Claim Amount'])\n",
        "\n",
        "# Save the figure\n",
        "fig.savefig('fig1.png', bbox_inches='tight')\n",
        "## add patch_artist=True option to ax.boxplot() \n",
        "## to get fill color\n",
        "bp = ax.boxplot(df_excl_0_99['Claim Amount'], patch_artist=True)\n",
        "\n",
        "## change outline color, fill color and linewidth of the boxes\n",
        "for box in bp['boxes']:\n",
        "    # change outline color\n",
        "    box.set( color='#7570b3', linewidth=2)\n",
        "    # change fill color\n",
        "    box.set( facecolor = '#1b9e77' )\n",
        "\n",
        "## change color and linewidth of the whiskers\n",
        "for whisker in bp['whiskers']:\n",
        "    whisker.set(color='#7570b3', linewidth=2)\n",
        "\n",
        "## change color and linewidth of the caps\n",
        "for cap in bp['caps']:\n",
        "    cap.set(color='#7570b3', linewidth=2)\n",
        "\n",
        "## change color and linewidth of the medians\n",
        "for median in bp['medians']:\n",
        "    median.set(color='#b2df8a', linewidth=2)\n",
        "\n",
        "## change the style of fliers and their fill\n",
        "for flier in bp['fliers']:\n",
        "    flier.set(marker='o', color='#e7298a', alpha=0.5)"
      ]
    },
    {
      "cell_type": "code",
      "execution_count": null,
      "metadata": {
        "colab": {
          "base_uri": "https://localhost:8080/",
          "height": 336
        },
        "id": "nj5OmHgKMGa0",
        "outputId": "8bd8f931-d078-4402-da8d-7dfc56045cbb"
      },
      "outputs": [
        {
          "data": {
            "image/png": "[encoded data removed]",
            "text/plain": [
              "<Figure size 1152x360 with 2 Axes>"
            ]
          },
          "metadata": {},
          "output_type": "display_data"
        }
      ],
      "source": [
        "\n",
        "# Comparing original and log transformed values\n",
        "fig, (ax1, ax2) = plt.subplots(1,2)\n",
        "fig.set_size_inches(16,5)\n",
        "ax1.hist(df_excl_0_99['Claim Amount'], bins=20)\n",
        "ax1.set_title('Histogram - Claim cost including zero values')\n",
        "ax1.grid(True)\n",
        "ax2.hist(np.log(df_excl_0_99['Claim Amount']), bins=20, color='g')\n",
        "ax2.set_title('Histogram - Claim cost excluding zero values')\n",
        "ax2.grid(True)\n",
        "plt.show()"
      ]
    },
    {
      "cell_type": "markdown",
      "metadata": {
        "id": "1ekvpzpfMT45"
      },
      "source": [
        "Le premier histogramme (bleu) donne une intuition que les données sont très proches de la distribution gamma et un autre (vert) suggère que nous pouvons essayer un modèle log-normal, bien qu'il soit loin d'être parfaitement normal, a deux pics au début."
      ]
    },
    {
      "cell_type": "markdown",
      "metadata": {
        "id": "M5zBRUZ_MWyb"
      },
      "source": [
        "Nous avons un autre défi ici, nous devons trouver une technique qui remplace mathématiquement le montant de la réclamation par une gravité de la réclamation. Nous voulions influencer les résultats du modèle sans réellement inclure cette variable (nombre de sinistres) dans la modélisation. Nous pouvons y parvenir en utilisant un terme de décalage dans le modèle et l'OLS n'est pas une technique appropriée pour cette exigence."
      ]
    },
    {
      "cell_type": "markdown",
      "metadata": {
        "id": "D-qN_n2CMcV9"
      },
      "source": [
        "Le modèle GLM est généralement configuré comme ci-dessous :"
      ]
    },
    {
      "cell_type": "markdown",
      "metadata": {
        "id": "_qUs5L3VMj3Y"
      },
      "source": [
        "L'équation finale indique que le décalage doit être à la même échelle que le prédicteur linéaire f(x). Par conséquent, le journal (nombre de réclamations) peut être utilisé comme décalage.\n"
      ]
    },
    {
      "cell_type": "markdown",
      "metadata": {
        "id": "xxuHptFOMnlR"
      },
      "source": [
        "# Entrainement et test des modèles"
      ]
    },
    {
      "cell_type": "code",
      "execution_count": null,
      "metadata": {
        "colab": {
          "base_uri": "https://localhost:8080/"
        },
        "id": "NXSxQRKgMaej",
        "outputId": "ffb117a9-b168-4633-b1ed-3a4976e473c2"
      },
      "outputs": [
        {
          "name": "stdout",
          "output_type": "stream",
          "text": [
            "Training data set length=911\n",
            "Testing data set length=219\n"
          ]
        }
      ],
      "source": [
        "Data = np.random.rand(len(df_excl_0_99)) < 0.8\n",
        "df_train = df_excl_0_99[Data]\n",
        "df_test = df_excl_0_99[~Data]\n",
        "print('Training data set length='+str(len(df_train)))\n",
        "print('Testing data set length='+str(len(df_test)))"
      ]
    },
    {
      "cell_type": "code",
      "execution_count": null,
      "metadata": {
        "colab": {
          "base_uri": "https://localhost:8080/",
          "height": 713
        },
        "id": "l-cpzpOkMv4B",
        "outputId": "c8cf5ecb-6ca1-4a81-9d82-85fa2cb7072f"
      },
      "outputs": [
        {
          "data": {
            "text/html": [
              "\n",
              "  <div id=\"df-c4958d32-1d02-4b5c-a95a-0f8fdae69e51\">\n",
              "    <div class=\"colab-df-container\">\n",
              "      <div>\n",
              "<style scoped>\n",
              "    .dataframe tbody tr th:only-of-type {\n",
              "        vertical-align: middle;\n",
              "    }\n",
              "\n",
              "    .dataframe tbody tr th {\n",
              "        vertical-align: top;\n",
              "    }\n",
              "\n",
              "    .dataframe thead th {\n",
              "        text-align: right;\n",
              "    }\n",
              "</style>\n",
              "<table border=\"1\" class=\"dataframe\">\n",
              "  <thead>\n",
              "    <tr style=\"text-align: right;\">\n",
              "      <th></th>\n",
              "      <th>State</th>\n",
              "      <th>Claim Amount</th>\n",
              "      <th>Response</th>\n",
              "      <th>Coverage</th>\n",
              "      <th>Education</th>\n",
              "      <th>EmploymentStatus</th>\n",
              "      <th>Gender</th>\n",
              "      <th>Income</th>\n",
              "      <th>Location Code</th>\n",
              "      <th>Marital Status</th>\n",
              "      <th>Monthly Premium Auto</th>\n",
              "      <th>Months Since Last Claim</th>\n",
              "      <th>Months Since Policy Inception</th>\n",
              "      <th>Number of Open Complaints</th>\n",
              "      <th>Number of Policies</th>\n",
              "      <th>Policy</th>\n",
              "      <th>Claim Reason</th>\n",
              "      <th>Total Claim Amount</th>\n",
              "      <th>Vehicle Class</th>\n",
              "      <th>Vehicle Size</th>\n",
              "    </tr>\n",
              "  </thead>\n",
              "  <tbody>\n",
              "    <tr>\n",
              "      <th>0</th>\n",
              "      <td>Kansas</td>\n",
              "      <td>276.351928</td>\n",
              "      <td>No</td>\n",
              "      <td>Basic</td>\n",
              "      <td>Bachelor</td>\n",
              "      <td>Employed</td>\n",
              "      <td>F</td>\n",
              "      <td>56274</td>\n",
              "      <td>Suburban</td>\n",
              "      <td>Married</td>\n",
              "      <td>69</td>\n",
              "      <td>32</td>\n",
              "      <td>5</td>\n",
              "      <td>0</td>\n",
              "      <td>1</td>\n",
              "      <td>Corporate L3</td>\n",
              "      <td>Collision</td>\n",
              "      <td>384.811147</td>\n",
              "      <td>Two-Door Car</td>\n",
              "      <td>Medsize</td>\n",
              "    </tr>\n",
              "    <tr>\n",
              "      <th>1</th>\n",
              "      <td>Nebraska</td>\n",
              "      <td>697.953590</td>\n",
              "      <td>No</td>\n",
              "      <td>Extended</td>\n",
              "      <td>Bachelor</td>\n",
              "      <td>Unemployed</td>\n",
              "      <td>F</td>\n",
              "      <td>0</td>\n",
              "      <td>Suburban</td>\n",
              "      <td>Single</td>\n",
              "      <td>94</td>\n",
              "      <td>13</td>\n",
              "      <td>42</td>\n",
              "      <td>0</td>\n",
              "      <td>8</td>\n",
              "      <td>Personal L3</td>\n",
              "      <td>Scratch/Dent</td>\n",
              "      <td>1131.464935</td>\n",
              "      <td>Four-Door Car</td>\n",
              "      <td>Medsize</td>\n",
              "    </tr>\n",
              "    <tr>\n",
              "      <th>2</th>\n",
              "      <td>Oklahoma</td>\n",
              "      <td>1288.743165</td>\n",
              "      <td>No</td>\n",
              "      <td>Premium</td>\n",
              "      <td>Bachelor</td>\n",
              "      <td>Employed</td>\n",
              "      <td>F</td>\n",
              "      <td>48767</td>\n",
              "      <td>Suburban</td>\n",
              "      <td>Married</td>\n",
              "      <td>108</td>\n",
              "      <td>18</td>\n",
              "      <td>38</td>\n",
              "      <td>0</td>\n",
              "      <td>2</td>\n",
              "      <td>Personal L3</td>\n",
              "      <td>Collision</td>\n",
              "      <td>566.472247</td>\n",
              "      <td>Two-Door Car</td>\n",
              "      <td>Medsize</td>\n",
              "    </tr>\n",
              "    <tr>\n",
              "      <th>3</th>\n",
              "      <td>Missouri</td>\n",
              "      <td>764.586183</td>\n",
              "      <td>No</td>\n",
              "      <td>Basic</td>\n",
              "      <td>Bachelor</td>\n",
              "      <td>Unemployed</td>\n",
              "      <td>M</td>\n",
              "      <td>0</td>\n",
              "      <td>Suburban</td>\n",
              "      <td>Married</td>\n",
              "      <td>106</td>\n",
              "      <td>18</td>\n",
              "      <td>65</td>\n",
              "      <td>0</td>\n",
              "      <td>7</td>\n",
              "      <td>Corporate L2</td>\n",
              "      <td>Collision</td>\n",
              "      <td>529.881344</td>\n",
              "      <td>SUV</td>\n",
              "      <td>Medsize</td>\n",
              "    </tr>\n",
              "    <tr>\n",
              "      <th>4</th>\n",
              "      <td>Kansas</td>\n",
              "      <td>281.369258</td>\n",
              "      <td>No</td>\n",
              "      <td>Basic</td>\n",
              "      <td>Bachelor</td>\n",
              "      <td>Employed</td>\n",
              "      <td>M</td>\n",
              "      <td>43836</td>\n",
              "      <td>Rural</td>\n",
              "      <td>Single</td>\n",
              "      <td>73</td>\n",
              "      <td>12</td>\n",
              "      <td>44</td>\n",
              "      <td>0</td>\n",
              "      <td>1</td>\n",
              "      <td>Personal L1</td>\n",
              "      <td>Collision</td>\n",
              "      <td>138.130879</td>\n",
              "      <td>Four-Door Car</td>\n",
              "      <td>Medsize</td>\n",
              "    </tr>\n",
              "    <tr>\n",
              "      <th>...</th>\n",
              "      <td>...</td>\n",
              "      <td>...</td>\n",
              "      <td>...</td>\n",
              "      <td>...</td>\n",
              "      <td>...</td>\n",
              "      <td>...</td>\n",
              "      <td>...</td>\n",
              "      <td>...</td>\n",
              "      <td>...</td>\n",
              "      <td>...</td>\n",
              "      <td>...</td>\n",
              "      <td>...</td>\n",
              "      <td>...</td>\n",
              "      <td>...</td>\n",
              "      <td>...</td>\n",
              "      <td>...</td>\n",
              "      <td>...</td>\n",
              "      <td>...</td>\n",
              "      <td>...</td>\n",
              "      <td>...</td>\n",
              "    </tr>\n",
              "    <tr>\n",
              "      <th>9128</th>\n",
              "      <td>Missouri</td>\n",
              "      <td>410.039853</td>\n",
              "      <td>No</td>\n",
              "      <td>Premium</td>\n",
              "      <td>College</td>\n",
              "      <td>Employed</td>\n",
              "      <td>F</td>\n",
              "      <td>47761</td>\n",
              "      <td>Suburban</td>\n",
              "      <td>Single</td>\n",
              "      <td>104</td>\n",
              "      <td>16</td>\n",
              "      <td>58</td>\n",
              "      <td>0</td>\n",
              "      <td>1</td>\n",
              "      <td>Personal L2</td>\n",
              "      <td>Collision</td>\n",
              "      <td>541.282007</td>\n",
              "      <td>Four-Door Car</td>\n",
              "      <td>Large</td>\n",
              "    </tr>\n",
              "    <tr>\n",
              "      <th>9129</th>\n",
              "      <td>Missouri</td>\n",
              "      <td>2340.598798</td>\n",
              "      <td>No</td>\n",
              "      <td>Basic</td>\n",
              "      <td>Bachelor</td>\n",
              "      <td>Employed</td>\n",
              "      <td>M</td>\n",
              "      <td>71941</td>\n",
              "      <td>Urban</td>\n",
              "      <td>Married</td>\n",
              "      <td>73</td>\n",
              "      <td>18</td>\n",
              "      <td>89</td>\n",
              "      <td>0</td>\n",
              "      <td>2</td>\n",
              "      <td>Personal L1</td>\n",
              "      <td>Hail</td>\n",
              "      <td>198.234764</td>\n",
              "      <td>Four-Door Car</td>\n",
              "      <td>Medsize</td>\n",
              "    </tr>\n",
              "    <tr>\n",
              "      <th>9131</th>\n",
              "      <td>Missouri</td>\n",
              "      <td>816.389043</td>\n",
              "      <td>No</td>\n",
              "      <td>Extended</td>\n",
              "      <td>Bachelor</td>\n",
              "      <td>Unemployed</td>\n",
              "      <td>M</td>\n",
              "      <td>0</td>\n",
              "      <td>Suburban</td>\n",
              "      <td>Single</td>\n",
              "      <td>85</td>\n",
              "      <td>9</td>\n",
              "      <td>37</td>\n",
              "      <td>3</td>\n",
              "      <td>2</td>\n",
              "      <td>Corporate L2</td>\n",
              "      <td>Collision</td>\n",
              "      <td>790.784983</td>\n",
              "      <td>Four-Door Car</td>\n",
              "      <td>Medsize</td>\n",
              "    </tr>\n",
              "    <tr>\n",
              "      <th>9132</th>\n",
              "      <td>Missouri</td>\n",
              "      <td>752.444244</td>\n",
              "      <td>No</td>\n",
              "      <td>Extended</td>\n",
              "      <td>College</td>\n",
              "      <td>Employed</td>\n",
              "      <td>M</td>\n",
              "      <td>21941</td>\n",
              "      <td>Suburban</td>\n",
              "      <td>Married</td>\n",
              "      <td>96</td>\n",
              "      <td>34</td>\n",
              "      <td>3</td>\n",
              "      <td>0</td>\n",
              "      <td>3</td>\n",
              "      <td>Personal L2</td>\n",
              "      <td>Scratch/Dent</td>\n",
              "      <td>691.200000</td>\n",
              "      <td>Four-Door Car</td>\n",
              "      <td>Large</td>\n",
              "    </tr>\n",
              "    <tr>\n",
              "      <th>9133</th>\n",
              "      <td>Missouri</td>\n",
              "      <td>261.183687</td>\n",
              "      <td>No</td>\n",
              "      <td>Extended</td>\n",
              "      <td>College</td>\n",
              "      <td>Unemployed</td>\n",
              "      <td>M</td>\n",
              "      <td>0</td>\n",
              "      <td>Suburban</td>\n",
              "      <td>Single</td>\n",
              "      <td>77</td>\n",
              "      <td>3</td>\n",
              "      <td>90</td>\n",
              "      <td>0</td>\n",
              "      <td>1</td>\n",
              "      <td>Corporate L3</td>\n",
              "      <td>Other</td>\n",
              "      <td>369.600000</td>\n",
              "      <td>Two-Door Car</td>\n",
              "      <td>Medsize</td>\n",
              "    </tr>\n",
              "  </tbody>\n",
              "</table>\n",
              "<p>8971 rows × 20 columns</p>\n",
              "</div>\n",
              "      <button class=\"colab-df-convert\" onclick=\"convertToInteractive('df-c4958d32-1d02-4b5c-a95a-0f8fdae69e51')\"\n",
              "              title=\"Convert this dataframe to an interactive table.\"\n",
              "              style=\"display:none;\">\n",
              "        \n",
              "  <svg xmlns=\"http://www.w3.org/2000/svg\" height=\"24px\"viewBox=\"0 0 24 24\"\n",
              "       width=\"24px\">\n",
              "    <path d=\"M0 0h24v24H0V0z\" fill=\"none\"/>\n",
              "    <path d=\"M18.56 5.44l.94 2.06.94-2.06 2.06-.94-2.06-.94-.94-2.06-.94 2.06-2.06.94zm-11 1L8.5 8.5l.94-2.06 2.06-.94-2.06-.94L8.5 2.5l-.94 2.06-2.06.94zm10 10l.94 2.06.94-2.06 2.06-.94-2.06-.94-.94-2.06-.94 2.06-2.06.94z\"/><path d=\"M17.41 7.96l-1.37-1.37c-.4-.4-.92-.59-1.43-.59-.52 0-1.04.2-1.43.59L10.3 9.45l-7.72 7.72c-.78.78-.78 2.05 0 2.83L4 21.41c.39.39.9.59 1.41.59.51 0 1.02-.2 1.41-.59l7.78-7.78 2.81-2.81c.8-.78.8-2.07 0-2.86zM5.41 20L4 18.59l7.72-7.72 1.47 1.35L5.41 20z\"/>\n",
              "  </svg>\n",
              "      </button>\n",
              "      \n",
              "  <style>\n",
              "    .colab-df-container {\n",
              "      display:flex;\n",
              "      flex-wrap:wrap;\n",
              "      gap: 12px;\n",
              "    }\n",
              "\n",
              "    .colab-df-convert {\n",
              "      background-color: #E8F0FE;\n",
              "      border: none;\n",
              "      border-radius: 50%;\n",
              "      cursor: pointer;\n",
              "      display: none;\n",
              "      fill: #1967D2;\n",
              "      height: 32px;\n",
              "      padding: 0 0 0 0;\n",
              "      width: 32px;\n",
              "    }\n",
              "\n",
              "    .colab-df-convert:hover {\n",
              "      background-color: #E2EBFA;\n",
              "      box-shadow: 0px 1px 2px rgba(60, 64, 67, 0.3), 0px 1px 3px 1px rgba(60, 64, 67, 0.15);\n",
              "      fill: #174EA6;\n",
              "    }\n",
              "\n",
              "    [theme=dark] .colab-df-convert {\n",
              "      background-color: #3B4455;\n",
              "      fill: #D2E3FC;\n",
              "    }\n",
              "\n",
              "    [theme=dark] .colab-df-convert:hover {\n",
              "      background-color: #434B5C;\n",
              "      box-shadow: 0px 1px 3px 1px rgba(0, 0, 0, 0.15);\n",
              "      filter: drop-shadow(0px 1px 2px rgba(0, 0, 0, 0.3));\n",
              "      fill: #FFFFFF;\n",
              "    }\n",
              "  </style>\n",
              "\n",
              "      <script>\n",
              "        const buttonEl =\n",
              "          document.querySelector('#df-c4958d32-1d02-4b5c-a95a-0f8fdae69e51 button.colab-df-convert');\n",
              "        buttonEl.style.display =\n",
              "          google.colab.kernel.accessAllowed ? 'block' : 'none';\n",
              "\n",
              "        async function convertToInteractive(key) {\n",
              "          const element = document.querySelector('#df-c4958d32-1d02-4b5c-a95a-0f8fdae69e51');\n",
              "          const dataTable =\n",
              "            await google.colab.kernel.invokeFunction('convertToInteractive',\n",
              "                                                     [key], {});\n",
              "          if (!dataTable) return;\n",
              "\n",
              "          const docLinkHtml = 'Like what you see? Visit the ' +\n",
              "            '<a target=\"_blank\" href=https://colab.research.google.com/notebooks/data_table.ipynb>data table notebook</a>'\n",
              "            + ' to learn more about interactive tables.';\n",
              "          element.innerHTML = '';\n",
              "          dataTable['output_type'] = 'display_data';\n",
              "          await google.colab.output.renderOutput(dataTable, element);\n",
              "          const docLink = document.createElement('div');\n",
              "          docLink.innerHTML = docLinkHtml;\n",
              "          element.appendChild(docLink);\n",
              "        }\n",
              "      </script>\n",
              "    </div>\n",
              "  </div>\n",
              "  "
            ],
            "text/plain": [
              "         State  Claim Amount  ...  Vehicle Class Vehicle Size\n",
              "0       Kansas    276.351928  ...   Two-Door Car      Medsize\n",
              "1     Nebraska    697.953590  ...  Four-Door Car      Medsize\n",
              "2     Oklahoma   1288.743165  ...   Two-Door Car      Medsize\n",
              "3     Missouri    764.586183  ...            SUV      Medsize\n",
              "4       Kansas    281.369258  ...  Four-Door Car      Medsize\n",
              "...        ...           ...  ...            ...          ...\n",
              "9128  Missouri    410.039853  ...  Four-Door Car        Large\n",
              "9129  Missouri   2340.598798  ...  Four-Door Car      Medsize\n",
              "9131  Missouri    816.389043  ...  Four-Door Car      Medsize\n",
              "9132  Missouri    752.444244  ...  Four-Door Car        Large\n",
              "9133  Missouri    261.183687  ...   Two-Door Car      Medsize\n",
              "\n",
              "[8971 rows x 20 columns]"
            ]
          },
          "execution_count": 24,
          "metadata": {},
          "output_type": "execute_result"
        }
      ],
      "source": [
        "data"
      ]
    },
    {
      "cell_type": "code",
      "execution_count": null,
      "metadata": {
        "id": "SZVONXObO2b6"
      },
      "outputs": [],
      "source": [
        "# df_train.rename(columns={'State':'State', 'Claim Amount':'Claim_Amount', 'Response':'Response', 'Coverage':'Coverage', 'Education':'Education',\n",
        "#        'EmploymentStatus':'EmploymentStatus', 'Gender':'Gender', 'Income':'Income', 'Location Code':'Location_Code',\n",
        "#        'Marital Status':'Marital_Status', 'Monthly Premium Auto':'Monthly_Premium_Auto', 'Months Since Last Claim':'Months_Since_Last_Claim',\n",
        "#        'Months Since Policy Inception':'Months_Since_Policy_Inception', 'Number of Open Complaints':'Number_of_Open_Complaints',\n",
        "#        'Number of Policies':'Number_of_Policies', 'Policy':'Policy', 'Claim Reason':'Claim_Reason', 'Total Claim Amount':'Total_Claim_Amount',\n",
        "#        'Vehicle Class':'Vehicle_Class', 'Vehicle Size':'Vehicle_Size'\n",
        "#                       })"
      ]
    },
    {
      "cell_type": "markdown",
      "metadata": {
        "id": "Er4uNCzxM02c"
      },
      "source": [
        "# Expression du modèle"
      ]
    },
    {
      "cell_type": "code",
      "execution_count": null,
      "metadata": {
        "id": "Ke7r8kxKM4MJ"
      },
      "outputs": [],
      "source": [
        "expr = \"\"\"ClaimA mount ~ Income+Gender+State+Location Code+Monthly Premium_Auto\"\"\""
      ]
    },
    {
      "cell_type": "code",
      "execution_count": null,
      "metadata": {
        "colab": {
          "base_uri": "https://localhost:8080/",
          "height": 423
        },
        "id": "fLWqNz9gOP5g",
        "outputId": "6d8def7b-ffe2-4370-f489-7160db9d4856"
      },
      "outputs": [
        {
          "ename": "PatsyError",
          "evalue": "ignored",
          "output_type": "error",
          "traceback": [
            "\u001b[0;31m---------------------------------------------------------------------------\u001b[0m",
            "\u001b[0;31mNameError\u001b[0m                                 Traceback (most recent call last)",
            "\u001b[0;32m/usr/local/lib/python3.7/dist-packages/patsy/compat.py\u001b[0m in \u001b[0;36mcall_and_wrap_exc\u001b[0;34m(msg, origin, f, *args, **kwargs)\u001b[0m\n\u001b[1;32m     35\u001b[0m     \u001b[0;32mtry\u001b[0m\u001b[0;34m:\u001b[0m\u001b[0;34m\u001b[0m\u001b[0;34m\u001b[0m\u001b[0m\n\u001b[0;32m---> 36\u001b[0;31m         \u001b[0;32mreturn\u001b[0m \u001b[0mf\u001b[0m\u001b[0;34m(\u001b[0m\u001b[0;34m*\u001b[0m\u001b[0margs\u001b[0m\u001b[0;34m,\u001b[0m \u001b[0;34m**\u001b[0m\u001b[0mkwargs\u001b[0m\u001b[0;34m)\u001b[0m\u001b[0;34m\u001b[0m\u001b[0;34m\u001b[0m\u001b[0m\n\u001b[0m\u001b[1;32m     37\u001b[0m     \u001b[0;32mexcept\u001b[0m \u001b[0mException\u001b[0m \u001b[0;32mas\u001b[0m \u001b[0me\u001b[0m\u001b[0;34m:\u001b[0m\u001b[0;34m\u001b[0m\u001b[0;34m\u001b[0m\u001b[0m\n",
            "\u001b[0;32m/usr/local/lib/python3.7/dist-packages/patsy/eval.py\u001b[0m in \u001b[0;36meval\u001b[0;34m(self, expr, source_name, inner_namespace)\u001b[0m\n\u001b[1;32m    165\u001b[0m         return eval(code, {}, VarLookupDict([inner_namespace]\n\u001b[0;32m--> 166\u001b[0;31m                                             + self._namespaces))\n\u001b[0m\u001b[1;32m    167\u001b[0m \u001b[0;34m\u001b[0m\u001b[0m\n",
            "\u001b[0;32m<string>\u001b[0m in \u001b[0;36m<module>\u001b[0;34m()\u001b[0m\n",
            "\u001b[0;31mNameError\u001b[0m: name 'Claim_Amount' is not defined",
            "\nThe above exception was the direct cause of the following exception:\n",
            "\u001b[0;31mPatsyError\u001b[0m                                Traceback (most recent call last)",
            "\u001b[0;32m<ipython-input-57-435d8692a2e8>\u001b[0m in \u001b[0;36m<module>\u001b[0;34m()\u001b[0m\n\u001b[1;32m      1\u001b[0m \u001b[0;32mfrom\u001b[0m \u001b[0mpatsy\u001b[0m \u001b[0;32mimport\u001b[0m \u001b[0mdmatrices\u001b[0m\u001b[0;34m\u001b[0m\u001b[0;34m\u001b[0m\u001b[0m\n\u001b[0;32m----> 2\u001b[0;31m \u001b[0my_train\u001b[0m\u001b[0;34m,\u001b[0m \u001b[0mX_train\u001b[0m \u001b[0;34m=\u001b[0m \u001b[0mdmatrices\u001b[0m\u001b[0;34m(\u001b[0m\u001b[0mexpr\u001b[0m\u001b[0;34m,\u001b[0m \u001b[0mdf_train\u001b[0m\u001b[0;34m,\u001b[0m \u001b[0mreturn_type\u001b[0m\u001b[0;34m=\u001b[0m\u001b[0;34m'dataframe'\u001b[0m\u001b[0;34m)\u001b[0m\u001b[0;34m\u001b[0m\u001b[0;34m\u001b[0m\u001b[0m\n\u001b[0m\u001b[1;32m      3\u001b[0m \u001b[0my_test\u001b[0m\u001b[0;34m,\u001b[0m \u001b[0mX_test\u001b[0m \u001b[0;34m=\u001b[0m \u001b[0mdmatrices\u001b[0m\u001b[0;34m(\u001b[0m\u001b[0mexpr\u001b[0m\u001b[0;34m,\u001b[0m \u001b[0mdf_test\u001b[0m\u001b[0;34m,\u001b[0m \u001b[0mreturn_type\u001b[0m\u001b[0;34m=\u001b[0m\u001b[0;34m'dataframe'\u001b[0m\u001b[0;34m)\u001b[0m\u001b[0;34m\u001b[0m\u001b[0;34m\u001b[0m\u001b[0m\n",
            "\u001b[0;32m/usr/local/lib/python3.7/dist-packages/patsy/highlevel.py\u001b[0m in \u001b[0;36mdmatrices\u001b[0;34m(formula_like, data, eval_env, NA_action, return_type)\u001b[0m\n\u001b[1;32m    308\u001b[0m     \u001b[0meval_env\u001b[0m \u001b[0;34m=\u001b[0m \u001b[0mEvalEnvironment\u001b[0m\u001b[0;34m.\u001b[0m\u001b[0mcapture\u001b[0m\u001b[0;34m(\u001b[0m\u001b[0meval_env\u001b[0m\u001b[0;34m,\u001b[0m \u001b[0mreference\u001b[0m\u001b[0;34m=\u001b[0m\u001b[0;36m1\u001b[0m\u001b[0;34m)\u001b[0m\u001b[0;34m\u001b[0m\u001b[0;34m\u001b[0m\u001b[0m\n\u001b[1;32m    309\u001b[0m     (lhs, rhs) = _do_highlevel_design(formula_like, data, eval_env,\n\u001b[0;32m--> 310\u001b[0;31m                                       NA_action, return_type)\n\u001b[0m\u001b[1;32m    311\u001b[0m     \u001b[0;32mif\u001b[0m \u001b[0mlhs\u001b[0m\u001b[0;34m.\u001b[0m\u001b[0mshape\u001b[0m\u001b[0;34m[\u001b[0m\u001b[0;36m1\u001b[0m\u001b[0;34m]\u001b[0m \u001b[0;34m==\u001b[0m \u001b[0;36m0\u001b[0m\u001b[0;34m:\u001b[0m\u001b[0;34m\u001b[0m\u001b[0;34m\u001b[0m\u001b[0m\n\u001b[1;32m    312\u001b[0m         \u001b[0;32mraise\u001b[0m \u001b[0mPatsyError\u001b[0m\u001b[0;34m(\u001b[0m\u001b[0;34m\"model is missing required outcome variables\"\u001b[0m\u001b[0;34m)\u001b[0m\u001b[0;34m\u001b[0m\u001b[0;34m\u001b[0m\u001b[0m\n",
            "\u001b[0;32m/usr/local/lib/python3.7/dist-packages/patsy/highlevel.py\u001b[0m in \u001b[0;36m_do_highlevel_design\u001b[0;34m(formula_like, data, eval_env, NA_action, return_type)\u001b[0m\n\u001b[1;32m    163\u001b[0m         \u001b[0;32mreturn\u001b[0m \u001b[0miter\u001b[0m\u001b[0;34m(\u001b[0m\u001b[0;34m[\u001b[0m\u001b[0mdata\u001b[0m\u001b[0;34m]\u001b[0m\u001b[0;34m)\u001b[0m\u001b[0;34m\u001b[0m\u001b[0;34m\u001b[0m\u001b[0m\n\u001b[1;32m    164\u001b[0m     design_infos = _try_incr_builders(formula_like, data_iter_maker, eval_env,\n\u001b[0;32m--> 165\u001b[0;31m                                       NA_action)\n\u001b[0m\u001b[1;32m    166\u001b[0m     \u001b[0;32mif\u001b[0m \u001b[0mdesign_infos\u001b[0m \u001b[0;32mis\u001b[0m \u001b[0;32mnot\u001b[0m \u001b[0;32mNone\u001b[0m\u001b[0;34m:\u001b[0m\u001b[0;34m\u001b[0m\u001b[0;34m\u001b[0m\u001b[0m\n\u001b[1;32m    167\u001b[0m         return build_design_matrices(design_infos, data,\n",
            "\u001b[0;32m/usr/local/lib/python3.7/dist-packages/patsy/highlevel.py\u001b[0m in \u001b[0;36m_try_incr_builders\u001b[0;34m(formula_like, data_iter_maker, eval_env, NA_action)\u001b[0m\n\u001b[1;32m     68\u001b[0m                                       \u001b[0mdata_iter_maker\u001b[0m\u001b[0;34m,\u001b[0m\u001b[0;34m\u001b[0m\u001b[0;34m\u001b[0m\u001b[0m\n\u001b[1;32m     69\u001b[0m                                       \u001b[0meval_env\u001b[0m\u001b[0;34m,\u001b[0m\u001b[0;34m\u001b[0m\u001b[0;34m\u001b[0m\u001b[0m\n\u001b[0;32m---> 70\u001b[0;31m                                       NA_action)\n\u001b[0m\u001b[1;32m     71\u001b[0m     \u001b[0;32melse\u001b[0m\u001b[0;34m:\u001b[0m\u001b[0;34m\u001b[0m\u001b[0;34m\u001b[0m\u001b[0m\n\u001b[1;32m     72\u001b[0m         \u001b[0;32mreturn\u001b[0m \u001b[0;32mNone\u001b[0m\u001b[0;34m\u001b[0m\u001b[0;34m\u001b[0m\u001b[0m\n",
            "\u001b[0;32m/usr/local/lib/python3.7/dist-packages/patsy/build.py\u001b[0m in \u001b[0;36mdesign_matrix_builders\u001b[0;34m(termlists, data_iter_maker, eval_env, NA_action)\u001b[0m\n\u001b[1;32m    694\u001b[0m                                                    \u001b[0mfactor_states\u001b[0m\u001b[0;34m,\u001b[0m\u001b[0;34m\u001b[0m\u001b[0;34m\u001b[0m\u001b[0m\n\u001b[1;32m    695\u001b[0m                                                    \u001b[0mdata_iter_maker\u001b[0m\u001b[0;34m,\u001b[0m\u001b[0;34m\u001b[0m\u001b[0;34m\u001b[0m\u001b[0m\n\u001b[0;32m--> 696\u001b[0;31m                                                    NA_action)\n\u001b[0m\u001b[1;32m    697\u001b[0m     \u001b[0;31m# Now we need the factor infos, which encapsulate the knowledge of\u001b[0m\u001b[0;34m\u001b[0m\u001b[0;34m\u001b[0m\u001b[0;34m\u001b[0m\u001b[0m\n\u001b[1;32m    698\u001b[0m     \u001b[0;31m# how to turn any given factor into a chunk of data:\u001b[0m\u001b[0;34m\u001b[0m\u001b[0;34m\u001b[0m\u001b[0;34m\u001b[0m\u001b[0m\n",
            "\u001b[0;32m/usr/local/lib/python3.7/dist-packages/patsy/build.py\u001b[0m in \u001b[0;36m_examine_factor_types\u001b[0;34m(factors, factor_states, data_iter_maker, NA_action)\u001b[0m\n\u001b[1;32m    441\u001b[0m     \u001b[0;32mfor\u001b[0m \u001b[0mdata\u001b[0m \u001b[0;32min\u001b[0m \u001b[0mdata_iter_maker\u001b[0m\u001b[0;34m(\u001b[0m\u001b[0;34m)\u001b[0m\u001b[0;34m:\u001b[0m\u001b[0;34m\u001b[0m\u001b[0;34m\u001b[0m\u001b[0m\n\u001b[1;32m    442\u001b[0m         \u001b[0;32mfor\u001b[0m \u001b[0mfactor\u001b[0m \u001b[0;32min\u001b[0m \u001b[0mlist\u001b[0m\u001b[0;34m(\u001b[0m\u001b[0mexamine_needed\u001b[0m\u001b[0;34m)\u001b[0m\u001b[0;34m:\u001b[0m\u001b[0;34m\u001b[0m\u001b[0;34m\u001b[0m\u001b[0m\n\u001b[0;32m--> 443\u001b[0;31m             \u001b[0mvalue\u001b[0m \u001b[0;34m=\u001b[0m \u001b[0mfactor\u001b[0m\u001b[0;34m.\u001b[0m\u001b[0meval\u001b[0m\u001b[0;34m(\u001b[0m\u001b[0mfactor_states\u001b[0m\u001b[0;34m[\u001b[0m\u001b[0mfactor\u001b[0m\u001b[0;34m]\u001b[0m\u001b[0;34m,\u001b[0m \u001b[0mdata\u001b[0m\u001b[0;34m)\u001b[0m\u001b[0;34m\u001b[0m\u001b[0;34m\u001b[0m\u001b[0m\n\u001b[0m\u001b[1;32m    444\u001b[0m             \u001b[0;32mif\u001b[0m \u001b[0mfactor\u001b[0m \u001b[0;32min\u001b[0m \u001b[0mcat_sniffers\u001b[0m \u001b[0;32mor\u001b[0m \u001b[0mguess_categorical\u001b[0m\u001b[0;34m(\u001b[0m\u001b[0mvalue\u001b[0m\u001b[0;34m)\u001b[0m\u001b[0;34m:\u001b[0m\u001b[0;34m\u001b[0m\u001b[0;34m\u001b[0m\u001b[0m\n\u001b[1;32m    445\u001b[0m                 \u001b[0;32mif\u001b[0m \u001b[0mfactor\u001b[0m \u001b[0;32mnot\u001b[0m \u001b[0;32min\u001b[0m \u001b[0mcat_sniffers\u001b[0m\u001b[0;34m:\u001b[0m\u001b[0;34m\u001b[0m\u001b[0;34m\u001b[0m\u001b[0m\n",
            "\u001b[0;32m/usr/local/lib/python3.7/dist-packages/patsy/eval.py\u001b[0m in \u001b[0;36meval\u001b[0;34m(self, memorize_state, data)\u001b[0m\n\u001b[1;32m    564\u001b[0m         return self._eval(memorize_state[\"eval_code\"],\n\u001b[1;32m    565\u001b[0m                           \u001b[0mmemorize_state\u001b[0m\u001b[0;34m,\u001b[0m\u001b[0;34m\u001b[0m\u001b[0;34m\u001b[0m\u001b[0m\n\u001b[0;32m--> 566\u001b[0;31m                           data)\n\u001b[0m\u001b[1;32m    567\u001b[0m \u001b[0;34m\u001b[0m\u001b[0m\n\u001b[1;32m    568\u001b[0m     \u001b[0m__getstate__\u001b[0m \u001b[0;34m=\u001b[0m \u001b[0mno_pickling\u001b[0m\u001b[0;34m\u001b[0m\u001b[0;34m\u001b[0m\u001b[0m\n",
            "\u001b[0;32m/usr/local/lib/python3.7/dist-packages/patsy/eval.py\u001b[0m in \u001b[0;36m_eval\u001b[0;34m(self, code, memorize_state, data)\u001b[0m\n\u001b[1;32m    549\u001b[0m                                  \u001b[0mmemorize_state\u001b[0m\u001b[0;34m[\u001b[0m\u001b[0;34m\"eval_env\"\u001b[0m\u001b[0;34m]\u001b[0m\u001b[0;34m.\u001b[0m\u001b[0meval\u001b[0m\u001b[0;34m,\u001b[0m\u001b[0;34m\u001b[0m\u001b[0;34m\u001b[0m\u001b[0m\n\u001b[1;32m    550\u001b[0m                                  \u001b[0mcode\u001b[0m\u001b[0;34m,\u001b[0m\u001b[0;34m\u001b[0m\u001b[0;34m\u001b[0m\u001b[0m\n\u001b[0;32m--> 551\u001b[0;31m                                  inner_namespace=inner_namespace)\n\u001b[0m\u001b[1;32m    552\u001b[0m \u001b[0;34m\u001b[0m\u001b[0m\n\u001b[1;32m    553\u001b[0m     \u001b[0;32mdef\u001b[0m \u001b[0mmemorize_chunk\u001b[0m\u001b[0;34m(\u001b[0m\u001b[0mself\u001b[0m\u001b[0;34m,\u001b[0m \u001b[0mstate\u001b[0m\u001b[0;34m,\u001b[0m \u001b[0mwhich_pass\u001b[0m\u001b[0;34m,\u001b[0m \u001b[0mdata\u001b[0m\u001b[0;34m)\u001b[0m\u001b[0;34m:\u001b[0m\u001b[0;34m\u001b[0m\u001b[0;34m\u001b[0m\u001b[0m\n",
            "\u001b[0;32m/usr/local/lib/python3.7/dist-packages/patsy/compat.py\u001b[0m in \u001b[0;36mcall_and_wrap_exc\u001b[0;34m(msg, origin, f, *args, **kwargs)\u001b[0m\n\u001b[1;32m     41\u001b[0m                                  origin)\n\u001b[1;32m     42\u001b[0m             \u001b[0;31m# Use 'exec' to hide this syntax from the Python 2 parser:\u001b[0m\u001b[0;34m\u001b[0m\u001b[0;34m\u001b[0m\u001b[0;34m\u001b[0m\u001b[0m\n\u001b[0;32m---> 43\u001b[0;31m             \u001b[0mexec\u001b[0m\u001b[0;34m(\u001b[0m\u001b[0;34m\"raise new_exc from e\"\u001b[0m\u001b[0;34m)\u001b[0m\u001b[0;34m\u001b[0m\u001b[0;34m\u001b[0m\u001b[0m\n\u001b[0m\u001b[1;32m     44\u001b[0m         \u001b[0;32melse\u001b[0m\u001b[0;34m:\u001b[0m\u001b[0;34m\u001b[0m\u001b[0;34m\u001b[0m\u001b[0m\n\u001b[1;32m     45\u001b[0m             \u001b[0;31m# In python 2, we just let the original exception escape -- better\u001b[0m\u001b[0;34m\u001b[0m\u001b[0;34m\u001b[0m\u001b[0;34m\u001b[0m\u001b[0m\n",
            "\u001b[0;32m/usr/local/lib/python3.7/dist-packages/patsy/compat.py\u001b[0m in \u001b[0;36m<module>\u001b[0;34m()\u001b[0m\n",
            "\u001b[0;31mPatsyError\u001b[0m: Error evaluating factor: NameError: name 'Claim_Amount' is not defined\n    Claim_Amount ~ Income+Gender+State+Location_Code+Monthly_Premium_Auto\n    ^^^^^^^^^^^^"
          ]
        }
      ],
      "source": [
        "from patsy import dmatrices\n",
        "y_train, X_train = dmatrices(expr, df_train, return_type='dataframe')\n",
        "y_test, X_test = dmatrices(expr, df_test, return_type='dataframe')"
      ]
    },
    {
      "cell_type": "code",
      "execution_count": null,
      "metadata": {
        "colab": {
          "base_uri": "https://localhost:8080/"
        },
        "id": "QsJS4eRCd_Pa",
        "outputId": "79769489-34eb-40b4-ef53-c70b4806189b"
      },
      "outputs": [
        {
          "data": {
            "text/plain": [
              "['State',\n",
              " 'Response',\n",
              " 'Coverage',\n",
              " 'Education',\n",
              " 'EmploymentStatus',\n",
              " 'Gender',\n",
              " 'Location Code',\n",
              " 'Marital Status',\n",
              " 'Policy',\n",
              " 'Claim Reason',\n",
              " 'Vehicle Class',\n",
              " 'Vehicle Size']"
            ]
          },
          "execution_count": 25,
          "metadata": {},
          "output_type": "execute_result"
        }
      ],
      "source": [
        "# Change each column to its appriopriate datatype\n",
        "date_cols = [col for col in data.columns if 'Date' in col]\n",
        "num_cols = ['Income', 'Monthly Premium Auto','Months Since Last Claim','Months Since Policy Inception',\n",
        "            'Number of Open Complaints','Number of Policies','Total Claim Amount','Claim Amount']\n",
        "cat_cols = [col for col in data.columns if col not in date_cols+num_cols]\n",
        "\n",
        "for col in data.columns:\n",
        "  if col in date_cols:\n",
        "    data[col] = pd.to_datetime(data[col])\n",
        "  elif col in cat_cols:\n",
        "    data[col] = data[col].astype('category')\n",
        "\n",
        "# Confirm whether the changes have been applied successfully\n",
        "# data.info()\n",
        "cat_cols"
      ]
    },
    {
      "cell_type": "code",
      "execution_count": null,
      "metadata": {
        "colab": {
          "base_uri": "https://localhost:8080/"
        },
        "id": "x-gMln4TczGE",
        "outputId": "95442902-efcf-49e8-e7db-91116761aea2"
      },
      "outputs": [
        {
          "data": {
            "text/plain": [
              "['Response']"
            ]
          },
          "execution_count": 26,
          "metadata": {},
          "output_type": "execute_result"
        }
      ],
      "source": [
        "data['Gender']=data['Gender'].apply(lambda row: 1 if row=='F' else 0)\n",
        "binary_columns=data.drop('Gender',axis=1).nunique()[data.drop('Gender',axis=1).nunique()<3].keys().to_list()\n",
        "binary_columns\n"
      ]
    },
    {
      "cell_type": "code",
      "execution_count": null,
      "metadata": {
        "id": "QVW9XqyRc2I3"
      },
      "outputs": [],
      "source": [
        "for column in binary_columns:\n",
        "  data[column]=data[column].apply(lambda row: 1 if row =='Yes' else 0)"
      ]
    },
    {
      "cell_type": "code",
      "execution_count": null,
      "metadata": {
        "id": "wbuelnP-eQAh"
      },
      "outputs": [],
      "source": [
        "data_cat_vars=data[cat_cols].nunique()[data[cat_cols].nunique()>2].keys().to_list()\n",
        "data_cat_vars_dummies=pd.get_dummies(data=data[data_cat_vars],columns=data_cat_vars,drop_first=True,dummy_na=False)"
      ]
    },
    {
      "cell_type": "code",
      "execution_count": null,
      "metadata": {
        "id": "gV3tXPBIeTWr"
      },
      "outputs": [],
      "source": [
        "Data=pd.concat([data['Gender'],data[binary_columns],data_cat_vars_dummies,data[num_cols]],axis=1)"
      ]
    },
    {
      "cell_type": "code",
      "execution_count": null,
      "metadata": {
        "colab": {
          "base_uri": "https://localhost:8080/",
          "height": 259
        },
        "id": "fMn9LW7oeW5E",
        "outputId": "ebe29cd0-c5cb-45b4-f614-18d5e6e14467"
      },
      "outputs": [
        {
          "data": {
            "text/html": [
              "\n",
              "  <div id=\"df-347fcc8a-cd39-43f2-aa3d-d17e1ad2f59e\">\n",
              "    <div class=\"colab-df-container\">\n",
              "      <div>\n",
              "<style scoped>\n",
              "    .dataframe tbody tr th:only-of-type {\n",
              "        vertical-align: middle;\n",
              "    }\n",
              "\n",
              "    .dataframe tbody tr th {\n",
              "        vertical-align: top;\n",
              "    }\n",
              "\n",
              "    .dataframe thead th {\n",
              "        text-align: right;\n",
              "    }\n",
              "</style>\n",
              "<table border=\"1\" class=\"dataframe\">\n",
              "  <thead>\n",
              "    <tr style=\"text-align: right;\">\n",
              "      <th></th>\n",
              "      <th>Gender</th>\n",
              "      <th>Response</th>\n",
              "      <th>State_Kansas</th>\n",
              "      <th>State_Missouri</th>\n",
              "      <th>State_Nebraska</th>\n",
              "      <th>State_Oklahoma</th>\n",
              "      <th>Coverage_Extended</th>\n",
              "      <th>Coverage_Premium</th>\n",
              "      <th>Education_College</th>\n",
              "      <th>Education_Doctor</th>\n",
              "      <th>Education_High School or Below</th>\n",
              "      <th>Education_Master</th>\n",
              "      <th>EmploymentStatus_Employed</th>\n",
              "      <th>EmploymentStatus_Medical Leave</th>\n",
              "      <th>EmploymentStatus_Retired</th>\n",
              "      <th>EmploymentStatus_Unemployed</th>\n",
              "      <th>Location Code_Suburban</th>\n",
              "      <th>Location Code_Urban</th>\n",
              "      <th>Marital Status_Married</th>\n",
              "      <th>Marital Status_Single</th>\n",
              "      <th>Policy_Corporate L2</th>\n",
              "      <th>Policy_Corporate L3</th>\n",
              "      <th>Policy_Personal L1</th>\n",
              "      <th>Policy_Personal L2</th>\n",
              "      <th>Policy_Personal L3</th>\n",
              "      <th>Policy_Special L1</th>\n",
              "      <th>Policy_Special L2</th>\n",
              "      <th>Policy_Special L3</th>\n",
              "      <th>Claim Reason_Hail</th>\n",
              "      <th>Claim Reason_Other</th>\n",
              "      <th>Claim Reason_Scratch/Dent</th>\n",
              "      <th>Vehicle Class_Luxury Car</th>\n",
              "      <th>Vehicle Class_Luxury SUV</th>\n",
              "      <th>Vehicle Class_SUV</th>\n",
              "      <th>Vehicle Class_Sports Car</th>\n",
              "      <th>Vehicle Class_Two-Door Car</th>\n",
              "      <th>Vehicle Size_Medsize</th>\n",
              "      <th>Vehicle Size_Small</th>\n",
              "      <th>Income</th>\n",
              "      <th>Monthly Premium Auto</th>\n",
              "      <th>Months Since Last Claim</th>\n",
              "      <th>Months Since Policy Inception</th>\n",
              "      <th>Number of Open Complaints</th>\n",
              "      <th>Number of Policies</th>\n",
              "      <th>Total Claim Amount</th>\n",
              "      <th>Claim Amount</th>\n",
              "    </tr>\n",
              "  </thead>\n",
              "  <tbody>\n",
              "    <tr>\n",
              "      <th>0</th>\n",
              "      <td>1</td>\n",
              "      <td>0</td>\n",
              "      <td>1</td>\n",
              "      <td>0</td>\n",
              "      <td>0</td>\n",
              "      <td>0</td>\n",
              "      <td>0</td>\n",
              "      <td>0</td>\n",
              "      <td>0</td>\n",
              "      <td>0</td>\n",
              "      <td>0</td>\n",
              "      <td>0</td>\n",
              "      <td>1</td>\n",
              "      <td>0</td>\n",
              "      <td>0</td>\n",
              "      <td>0</td>\n",
              "      <td>1</td>\n",
              "      <td>0</td>\n",
              "      <td>1</td>\n",
              "      <td>0</td>\n",
              "      <td>0</td>\n",
              "      <td>1</td>\n",
              "      <td>0</td>\n",
              "      <td>0</td>\n",
              "      <td>0</td>\n",
              "      <td>0</td>\n",
              "      <td>0</td>\n",
              "      <td>0</td>\n",
              "      <td>0</td>\n",
              "      <td>0</td>\n",
              "      <td>0</td>\n",
              "      <td>0</td>\n",
              "      <td>0</td>\n",
              "      <td>0</td>\n",
              "      <td>0</td>\n",
              "      <td>1</td>\n",
              "      <td>1</td>\n",
              "      <td>0</td>\n",
              "      <td>56274</td>\n",
              "      <td>69</td>\n",
              "      <td>32</td>\n",
              "      <td>5</td>\n",
              "      <td>0</td>\n",
              "      <td>1</td>\n",
              "      <td>384.811147</td>\n",
              "      <td>276.351928</td>\n",
              "    </tr>\n",
              "    <tr>\n",
              "      <th>1</th>\n",
              "      <td>1</td>\n",
              "      <td>0</td>\n",
              "      <td>0</td>\n",
              "      <td>0</td>\n",
              "      <td>1</td>\n",
              "      <td>0</td>\n",
              "      <td>1</td>\n",
              "      <td>0</td>\n",
              "      <td>0</td>\n",
              "      <td>0</td>\n",
              "      <td>0</td>\n",
              "      <td>0</td>\n",
              "      <td>0</td>\n",
              "      <td>0</td>\n",
              "      <td>0</td>\n",
              "      <td>1</td>\n",
              "      <td>1</td>\n",
              "      <td>0</td>\n",
              "      <td>0</td>\n",
              "      <td>1</td>\n",
              "      <td>0</td>\n",
              "      <td>0</td>\n",
              "      <td>0</td>\n",
              "      <td>0</td>\n",
              "      <td>1</td>\n",
              "      <td>0</td>\n",
              "      <td>0</td>\n",
              "      <td>0</td>\n",
              "      <td>0</td>\n",
              "      <td>0</td>\n",
              "      <td>1</td>\n",
              "      <td>0</td>\n",
              "      <td>0</td>\n",
              "      <td>0</td>\n",
              "      <td>0</td>\n",
              "      <td>0</td>\n",
              "      <td>1</td>\n",
              "      <td>0</td>\n",
              "      <td>0</td>\n",
              "      <td>94</td>\n",
              "      <td>13</td>\n",
              "      <td>42</td>\n",
              "      <td>0</td>\n",
              "      <td>8</td>\n",
              "      <td>1131.464935</td>\n",
              "      <td>697.953590</td>\n",
              "    </tr>\n",
              "    <tr>\n",
              "      <th>2</th>\n",
              "      <td>1</td>\n",
              "      <td>0</td>\n",
              "      <td>0</td>\n",
              "      <td>0</td>\n",
              "      <td>0</td>\n",
              "      <td>1</td>\n",
              "      <td>0</td>\n",
              "      <td>1</td>\n",
              "      <td>0</td>\n",
              "      <td>0</td>\n",
              "      <td>0</td>\n",
              "      <td>0</td>\n",
              "      <td>1</td>\n",
              "      <td>0</td>\n",
              "      <td>0</td>\n",
              "      <td>0</td>\n",
              "      <td>1</td>\n",
              "      <td>0</td>\n",
              "      <td>1</td>\n",
              "      <td>0</td>\n",
              "      <td>0</td>\n",
              "      <td>0</td>\n",
              "      <td>0</td>\n",
              "      <td>0</td>\n",
              "      <td>1</td>\n",
              "      <td>0</td>\n",
              "      <td>0</td>\n",
              "      <td>0</td>\n",
              "      <td>0</td>\n",
              "      <td>0</td>\n",
              "      <td>0</td>\n",
              "      <td>0</td>\n",
              "      <td>0</td>\n",
              "      <td>0</td>\n",
              "      <td>0</td>\n",
              "      <td>1</td>\n",
              "      <td>1</td>\n",
              "      <td>0</td>\n",
              "      <td>48767</td>\n",
              "      <td>108</td>\n",
              "      <td>18</td>\n",
              "      <td>38</td>\n",
              "      <td>0</td>\n",
              "      <td>2</td>\n",
              "      <td>566.472247</td>\n",
              "      <td>1288.743165</td>\n",
              "    </tr>\n",
              "  </tbody>\n",
              "</table>\n",
              "</div>\n",
              "      <button class=\"colab-df-convert\" onclick=\"convertToInteractive('df-347fcc8a-cd39-43f2-aa3d-d17e1ad2f59e')\"\n",
              "              title=\"Convert this dataframe to an interactive table.\"\n",
              "              style=\"display:none;\">\n",
              "        \n",
              "  <svg xmlns=\"http://www.w3.org/2000/svg\" height=\"24px\"viewBox=\"0 0 24 24\"\n",
              "       width=\"24px\">\n",
              "    <path d=\"M0 0h24v24H0V0z\" fill=\"none\"/>\n",
              "    <path d=\"M18.56 5.44l.94 2.06.94-2.06 2.06-.94-2.06-.94-.94-2.06-.94 2.06-2.06.94zm-11 1L8.5 8.5l.94-2.06 2.06-.94-2.06-.94L8.5 2.5l-.94 2.06-2.06.94zm10 10l.94 2.06.94-2.06 2.06-.94-2.06-.94-.94-2.06-.94 2.06-2.06.94z\"/><path d=\"M17.41 7.96l-1.37-1.37c-.4-.4-.92-.59-1.43-.59-.52 0-1.04.2-1.43.59L10.3 9.45l-7.72 7.72c-.78.78-.78 2.05 0 2.83L4 21.41c.39.39.9.59 1.41.59.51 0 1.02-.2 1.41-.59l7.78-7.78 2.81-2.81c.8-.78.8-2.07 0-2.86zM5.41 20L4 18.59l7.72-7.72 1.47 1.35L5.41 20z\"/>\n",
              "  </svg>\n",
              "      </button>\n",
              "      \n",
              "  <style>\n",
              "    .colab-df-container {\n",
              "      display:flex;\n",
              "      flex-wrap:wrap;\n",
              "      gap: 12px;\n",
              "    }\n",
              "\n",
              "    .colab-df-convert {\n",
              "      background-color: #E8F0FE;\n",
              "      border: none;\n",
              "      border-radius: 50%;\n",
              "      cursor: pointer;\n",
              "      display: none;\n",
              "      fill: #1967D2;\n",
              "      height: 32px;\n",
              "      padding: 0 0 0 0;\n",
              "      width: 32px;\n",
              "    }\n",
              "\n",
              "    .colab-df-convert:hover {\n",
              "      background-color: #E2EBFA;\n",
              "      box-shadow: 0px 1px 2px rgba(60, 64, 67, 0.3), 0px 1px 3px 1px rgba(60, 64, 67, 0.15);\n",
              "      fill: #174EA6;\n",
              "    }\n",
              "\n",
              "    [theme=dark] .colab-df-convert {\n",
              "      background-color: #3B4455;\n",
              "      fill: #D2E3FC;\n",
              "    }\n",
              "\n",
              "    [theme=dark] .colab-df-convert:hover {\n",
              "      background-color: #434B5C;\n",
              "      box-shadow: 0px 1px 3px 1px rgba(0, 0, 0, 0.15);\n",
              "      filter: drop-shadow(0px 1px 2px rgba(0, 0, 0, 0.3));\n",
              "      fill: #FFFFFF;\n",
              "    }\n",
              "  </style>\n",
              "\n",
              "      <script>\n",
              "        const buttonEl =\n",
              "          document.querySelector('#df-347fcc8a-cd39-43f2-aa3d-d17e1ad2f59e button.colab-df-convert');\n",
              "        buttonEl.style.display =\n",
              "          google.colab.kernel.accessAllowed ? 'block' : 'none';\n",
              "\n",
              "        async function convertToInteractive(key) {\n",
              "          const element = document.querySelector('#df-347fcc8a-cd39-43f2-aa3d-d17e1ad2f59e');\n",
              "          const dataTable =\n",
              "            await google.colab.kernel.invokeFunction('convertToInteractive',\n",
              "                                                     [key], {});\n",
              "          if (!dataTable) return;\n",
              "\n",
              "          const docLinkHtml = 'Like what you see? Visit the ' +\n",
              "            '<a target=\"_blank\" href=https://colab.research.google.com/notebooks/data_table.ipynb>data table notebook</a>'\n",
              "            + ' to learn more about interactive tables.';\n",
              "          element.innerHTML = '';\n",
              "          dataTable['output_type'] = 'display_data';\n",
              "          await google.colab.output.renderOutput(dataTable, element);\n",
              "          const docLink = document.createElement('div');\n",
              "          docLink.innerHTML = docLinkHtml;\n",
              "          element.appendChild(docLink);\n",
              "        }\n",
              "      </script>\n",
              "    </div>\n",
              "  </div>\n",
              "  "
            ],
            "text/plain": [
              "  Gender Response  ...  Total Claim Amount  Claim Amount\n",
              "0      1        0  ...          384.811147    276.351928\n",
              "1      1        0  ...         1131.464935    697.953590\n",
              "2      1        0  ...          566.472247   1288.743165\n",
              "\n",
              "[3 rows x 46 columns]"
            ]
          },
          "execution_count": 30,
          "metadata": {},
          "output_type": "execute_result"
        }
      ],
      "source": [
        "Data.head(3)"
      ]
    },
    {
      "cell_type": "code",
      "execution_count": null,
      "metadata": {
        "colab": {
          "base_uri": "https://localhost:8080/"
        },
        "id": "oL043D1_eY1j",
        "outputId": "298e8ebd-c238-4c84-a28d-c40d91147da6"
      },
      "outputs": [
        {
          "data": {
            "text/plain": [
              "(8971, 46)"
            ]
          },
          "execution_count": 31,
          "metadata": {},
          "output_type": "execute_result"
        }
      ],
      "source": [
        "Data.shape"
      ]
    },
    {
      "cell_type": "code",
      "execution_count": null,
      "metadata": {
        "id": "69lqTju3e2KE"
      },
      "outputs": [],
      "source": [
        "# X_scaler=data.drop('Claim Amount',axis=1)\n",
        "# Y=np.array(data['Claim Amount'])"
      ]
    },
    {
      "cell_type": "code",
      "execution_count": null,
      "metadata": {
        "id": "qyswzeb4e_lv"
      },
      "outputs": [],
      "source": [
        "# scaler = preprocessing.StandardScaler()\n",
        "# scaler = scaler.fit(Data)\n",
        "# scaled = scaler.transform(Data)\n",
        "# # scaled = scaler.fit_transform(Data)\n",
        "# scaled_data = pd.DataFrame(scaled, columns=Data.columns)"
      ]
    },
    {
      "cell_type": "code",
      "execution_count": null,
      "metadata": {
        "colab": {
          "base_uri": "https://localhost:8080/"
        },
        "id": "-Q35YrSFjJew",
        "outputId": "8277c757-57d6-4f6f-fdd6-34c997016b94"
      },
      "outputs": [
        {
          "data": {
            "text/plain": [
              "((7176, 45), (1795, 45), (7176,), (1795,))"
            ]
          },
          "execution_count": 33,
          "metadata": {},
          "output_type": "execute_result"
        }
      ],
      "source": [
        "cols = list(Data.columns[0:-1])\n",
        "X, y = Data[cols], Data['Claim Amount']\n",
        "\n",
        "\n",
        "X_train, X_test, Y_train, Y_test = train_test_split(X, y, test_size=0.2, random_state=0)\n",
        "X_train.shape, X_test.shape,Y_train.shape,Y_test.shape"
      ]
    },
    {
      "cell_type": "code",
      "execution_count": null,
      "metadata": {
        "id": "MistGoVWL8rc"
      },
      "outputs": [],
      "source": [
        "scalerX = preprocessing.StandardScaler().fit(X_train)\n",
        "scalery = preprocessing.StandardScaler().fit(Y_train.values.reshape(-1,1))\n",
        "X_train = scalerX.transform(X_train)\n",
        "Y_train = scalery.transform(Y_train.values.reshape(-1,1))\n",
        "X_test = scalerX.transform(X_test)\n",
        "Y_test = scalery.transform(Y_test.values.reshape(-1,1))\n"
      ]
    },
    {
      "cell_type": "code",
      "execution_count": null,
      "metadata": {
        "id": "MQEkG57afFfZ"
      },
      "outputs": [],
      "source": [
        "# from sklearn.model_selection import train_test_split\n",
        "# X_train,X_test,Y_train,Y_test=train_test_split(X_scaler,Y,test_size=0.8,random_state=0,shuffle=True)"
      ]
    },
    {
      "cell_type": "code",
      "execution_count": null,
      "metadata": {
        "colab": {
          "base_uri": "https://localhost:8080/"
        },
        "id": "jNsNWD6KfKCp",
        "outputId": "447836a6-328e-496f-d4bb-ed9b2b70d081"
      },
      "outputs": [
        {
          "name": "stdout",
          "output_type": "stream",
          "text": [
            "Les données de test et de train ce présentent comme:\n",
            "X_train:  (7176, 45)\n",
            "X_test:  (1795, 45)\n",
            "y_train:  (7176, 1)\n",
            "y_test:  (1795, 1)\n"
          ]
        }
      ],
      "source": [
        "print(\"Les données de test et de train ce présentent comme:\")\n",
        "print(\"X_train: \", X_train.shape)\n",
        "print(\"X_test: \", X_test.shape)\n",
        "print(\"y_train: \", Y_train.shape)\n",
        "print(\"y_test: \", Y_test.shape)"
      ]
    },
    {
      "cell_type": "code",
      "execution_count": null,
      "metadata": {
        "id": "WyuBTAxqyJA4"
      },
      "outputs": [],
      "source": [
        "#!pip install pycaret"
      ]
    },
    {
      "cell_type": "code",
      "execution_count": null,
      "metadata": {
        "colab": {
          "base_uri": "https://localhost:8080/"
        },
        "id": "RzHXcNRc7lPY",
        "outputId": "af965f94-faf6-449e-eb11-154205ec0fd4"
      },
      "outputs": [
        {
          "name": "stdout",
          "output_type": "stream",
          "text": [
            "RandomForestRegressor(bootstrap=True, ccp_alpha=0.0, criterion='squared_error',\n",
            "                      max_depth=None, max_features='auto', max_leaf_nodes=None,\n",
            "                      max_samples=None, min_impurity_decrease=0.0,\n",
            "                      min_samples_leaf=1, min_samples_split=2,\n",
            "                      min_weight_fraction_leaf=0.0, n_estimators=250,\n",
            "                      n_jobs=None, oob_score=False, random_state=284, verbose=0,\n",
            "                      warm_start=False)\n"
          ]
        }
      ],
      "source": [
        "set_config(print_changed_only=False) \n",
        " \n",
        "rfr = RandomForestRegressor(n_estimators = 250,random_state = 284)\n",
        "print(rfr)\n"
      ]
    },
    {
      "cell_type": "code",
      "execution_count": null,
      "metadata": {
        "colab": {
          "base_uri": "https://localhost:8080/"
        },
        "id": "PMNejrWPgJlB",
        "outputId": "8ac3b9f3-8e66-459c-a9a8-8aae463ba818"
      },
      "outputs": [
        {
          "name": "stdout",
          "output_type": "stream",
          "text": [
            "R-squared: 0.9577540352668036\n"
          ]
        }
      ],
      "source": [
        "rfr.fit(X_train,Y_train)\n",
        "score = rfr.score(X_train,Y_train)\n",
        "print(\"R-squared:\", score) "
      ]
    },
    {
      "cell_type": "code",
      "execution_count": null,
      "metadata": {
        "colab": {
          "base_uri": "https://localhost:8080/"
        },
        "id": "_0SDPn0ICem1",
        "outputId": "ab0344f4-c768-407f-eae7-f42c70d060f6"
      },
      "outputs": [
        {
          "name": "stdout",
          "output_type": "stream",
          "text": [
            "R-squared: 0.7119570594422433\n"
          ]
        }
      ],
      "source": [
        "# rfr.fit(X_train,Y_train)\n",
        "score = rfr.score(X_test,Y_test)\n",
        "print(\"R-squared:\", score) "
      ]
    },
    {
      "cell_type": "code",
      "execution_count": null,
      "metadata": {
        "colab": {
          "base_uri": "https://localhost:8080/"
        },
        "id": "AOrvQ6WMgNYu",
        "outputId": "de356868-b8b0-4308-b6cf-d1090423493d"
      },
      "outputs": [
        {
          "name": "stdout",
          "output_type": "stream",
          "text": [
            "MSE:  0.2722279993350564\n",
            "RMSE:  0.1361139996675282\n"
          ]
        }
      ],
      "source": [
        "ypred = rfr.predict(X_test)\n",
        "\n",
        "mse = mean_squared_error(Y_test, ypred)\n",
        "print(\"MSE: \", mse)\n",
        "print(\"RMSE: \", mse*(1/2.0)) "
      ]
    },
    {
      "cell_type": "code",
      "execution_count": null,
      "metadata": {
        "id": "sIHxzzawRzTH"
      },
      "outputs": [],
      "source": [
        "ypred_rf = scalery.inverse_transform(ypred.reshape(-1,1))\n",
        "ytest_rf = scalery.inverse_transform(Y_test.reshape(-1,1))"
      ]
    },
    {
      "cell_type": "code",
      "execution_count": null,
      "metadata": {
        "colab": {
          "base_uri": "https://localhost:8080/",
          "height": 350
        },
        "id": "p31sQqLAs1nD",
        "outputId": "16bbc26f-2fcf-485b-dea7-05c92a8dab32"
      },
      "outputs": [
        {
          "data": {
            "image/png": "[encoded data removed]",
            "text/plain": [
              "<Figure size 720x360 with 1 Axes>"
            ]
          },
          "metadata": {},
          "output_type": "display_data"
        }
      ],
      "source": [
        "x_ax = range(len(Y_test))\n",
        "plt.figure(figsize=(10,5))\n",
        "plt.plot(x_ax, ytest_rf, linewidth=2,marker='o', label=\"data original\")\n",
        "plt.plot(x_ax, ypred_rf, linewidth=2,marker='o', label=\"data predicted\")\n",
        "plt.title(\"RandomForestRegressor\", fontsize=20)\n",
        "# plt.xlabel('Y_pred', fontsize=20)\n",
        "plt.ylabel('Claim Amount',fontsize=20)\n",
        "plt.xticks(fontsize=20)\n",
        "plt.yticks(fontsize=20)\n",
        "plt.legend(loc='best',fancybox=True, shadow=True,fontsize=20)\n",
        "plt.grid(True)\n",
        "plt.xlim(100,150)\n",
        "plt.show() "
      ]
    },
    {
      "cell_type": "code",
      "execution_count": null,
      "metadata": {
        "colab": {
          "base_uri": "https://localhost:8080/",
          "height": 283
        },
        "id": "tSFGi8Ph9O3z",
        "outputId": "1223d72a-498d-46f2-8809-4e0f98035e78"
      },
      "outputs": [
        {
          "data": {
            "text/plain": [
              "<matplotlib.collections.PathCollection at 0x7f030143e490>"
            ]
          },
          "execution_count": 88,
          "metadata": {},
          "output_type": "execute_result"
        },
        {
          "data": {
            "image/png": "[encoded data removed]",
            "text/plain": [
              "<Figure size 432x288 with 1 Axes>"
            ]
          },
          "metadata": {},
          "output_type": "display_data"
        }
      ],
      "source": [
        "plt.scatter( Y_test,ypred)"
      ]
    },
    {
      "cell_type": "code",
      "execution_count": null,
      "metadata": {
        "id": "U_wfuDkO8gS3"
      },
      "outputs": [],
      "source": [
        ""
      ]
    },
    {
      "cell_type": "code",
      "execution_count": null,
      "metadata": {
        "colab": {
          "base_uri": "https://localhost:8080/"
        },
        "id": "BI0fn2Azs9jZ",
        "outputId": "f22d866c-647b-4173-b9d0-9ea3df2304f6"
      },
      "outputs": [
        {
          "name": "stdout",
          "output_type": "stream",
          "text": [
            "DecisionTreeRegressor(ccp_alpha=0.0, criterion='squared_error', max_depth=None,\n",
            "                      max_features=None, max_leaf_nodes=None,\n",
            "                      min_impurity_decrease=0.0, min_samples_leaf=1,\n",
            "                      min_samples_split=2, min_weight_fraction_leaf=0.0,\n",
            "                      random_state=None, splitter='best')\n"
          ]
        }
      ],
      "source": [
        "set_config(print_changed_only=False) \n",
        " \n",
        "dtr = DecisionTreeRegressor()\n",
        "print(dtr)"
      ]
    },
    {
      "cell_type": "code",
      "execution_count": null,
      "metadata": {
        "colab": {
          "base_uri": "https://localhost:8080/"
        },
        "id": "HTUOiYzjiAaJ",
        "outputId": "02c49ac0-8b12-4539-e5d3-4e563a65f7bb"
      },
      "outputs": [
        {
          "name": "stdout",
          "output_type": "stream",
          "text": [
            "R-squared: 1.0\n"
          ]
        }
      ],
      "source": [
        "dtr.fit(X_train, Y_train)\n",
        "score = dtr.score(X_train, Y_train)\n",
        "print(\"R-squared:\", score) "
      ]
    },
    {
      "cell_type": "code",
      "execution_count": null,
      "metadata": {
        "colab": {
          "base_uri": "https://localhost:8080/"
        },
        "id": "JfR_xlYMCsow",
        "outputId": "ecbab09a-3e54-4c5d-831c-e1d09600b6fd"
      },
      "outputs": [
        {
          "name": "stdout",
          "output_type": "stream",
          "text": [
            "R-squared: 0.4663334358555079\n"
          ]
        }
      ],
      "source": [
        "dtr.fit(X_train,Y_train)\n",
        "score = dtr.score(X_test,Y_test)\n",
        "print(\"R-squared:\", score) "
      ]
    },
    {
      "cell_type": "code",
      "execution_count": null,
      "metadata": {
        "colab": {
          "base_uri": "https://localhost:8080/"
        },
        "id": "A7Dfd9aWuabA",
        "outputId": "e0897a3d-dfc4-4389-a4ba-bd3fa942c5a7"
      },
      "outputs": [
        {
          "name": "stdout",
          "output_type": "stream",
          "text": [
            "MSE:  0.5043657059872925\n",
            "RMSE:  0.25218285299364623\n"
          ]
        }
      ],
      "source": [
        "pred = dtr.predict(X_test)\n",
        "\n",
        "rmse = mean_squared_error(Y_test, pred)\n",
        "print(\"MSE: \", rmse)\n",
        "print(\"RMSE: \", rmse*(1/2.0)) "
      ]
    },
    {
      "cell_type": "code",
      "execution_count": null,
      "metadata": {
        "id": "GsNOZ-dktOlA"
      },
      "outputs": [],
      "source": [
        "ypred_dt = scalery.inverse_transform(pred.reshape(-1,1))\n",
        "ytest_dt = scalery.inverse_transform(Y_test.reshape(-1,1))"
      ]
    },
    {
      "cell_type": "code",
      "execution_count": null,
      "metadata": {
        "colab": {
          "base_uri": "https://localhost:8080/",
          "height": 345
        },
        "id": "JiOD98jutn_O",
        "outputId": "d745311f-43cf-49b7-d92c-5e8da88c7307"
      },
      "outputs": [
        {
          "data": {
            "image/png": "[encoded data removed]",
            "text/plain": [
              "<Figure size 720x360 with 1 Axes>"
            ]
          },
          "metadata": {},
          "output_type": "display_data"
        }
      ],
      "source": [
        "x_ax = range(len(Y_test))\n",
        "plt.figure(figsize=(10,5))\n",
        "plt.plot(x_ax, ytest_dt, linewidth=2,marker='o', label=\"data original\")\n",
        "plt.plot(x_ax, ypred_dt, linewidth=2,marker='o', label=\"data predicted\")\n",
        "plt.title(\"DecisionTreeRegressor\")\n",
        "# plt.xlabel('X-axis',fontsize=20)\n",
        "plt.ylabel('Claim Amount',fontsize=20)\n",
        "plt.legend(loc='best',fancybox=True, shadow=True, fontsize=20)\n",
        "plt.xticks(fontsize=20)\n",
        "plt.yticks(fontsize=20)\n",
        "plt.grid(True)\n",
        "plt.xlim(100,150)\n",
        "plt.show() "
      ]
    },
    {
      "cell_type": "code",
      "execution_count": null,
      "metadata": {
        "id": "9EYyQoLK34UZ"
      },
      "outputs": [],
      "source": [
        "# definition du modèle\n",
        "model = Sequential()\n",
        "model.add(Dense(13, input_dim=45, activation='relu', kernel_initializer='he_uniform'))\n",
        "model.add(Dense(4, activation='relu', kernel_initializer='he_uniform'))\n",
        "model.add(Dense(1, activation='linear', kernel_initializer='he_uniform'))\n",
        "model.compile(loss='mean_squared_error', optimizer='adam', metrics =['mae','mse'])"
      ]
    },
    {
      "cell_type": "code",
      "execution_count": null,
      "metadata": {
        "colab": {
          "base_uri": "https://localhost:8080/"
        },
        "id": "hirI3Q9fpWOG",
        "outputId": "3764f3eb-178a-4960-e0f2-ad49a7987b7c"
      },
      "outputs": [
        {
          "name": "stdout",
          "output_type": "stream",
          "text": [
            "Epoch 1/10\n",
            "897/897 [==============================] - 2s 2ms/step - loss: 1.1102 - mae: 0.6533 - mse: 1.1102 - val_loss: 0.9074 - val_mae: 0.6161 - val_mse: 0.9074\n",
            "Epoch 2/10\n",
            "897/897 [==============================] - 2s 2ms/step - loss: 0.9271 - mae: 0.5947 - mse: 0.9271 - val_loss: 0.8487 - val_mae: 0.5715 - val_mse: 0.8487\n",
            "Epoch 3/10\n",
            "897/897 [==============================] - 2s 2ms/step - loss: 0.8694 - mae: 0.5670 - mse: 0.8694 - val_loss: 0.8042 - val_mae: 0.5728 - val_mse: 0.8042\n",
            "Epoch 4/10\n",
            "897/897 [==============================] - 2s 2ms/step - loss: 0.7933 - mae: 0.5402 - mse: 0.7933 - val_loss: 0.7167 - val_mae: 0.4985 - val_mse: 0.7167\n",
            "Epoch 5/10\n",
            "897/897 [==============================] - 2s 2ms/step - loss: 0.6980 - mae: 0.4805 - mse: 0.6980 - val_loss: 0.5909 - val_mae: 0.4327 - val_mse: 0.5909\n",
            "Epoch 6/10\n",
            "897/897 [==============================] - 2s 2ms/step - loss: 0.5469 - mae: 0.4021 - mse: 0.5469 - val_loss: 0.4367 - val_mae: 0.3663 - val_mse: 0.4367\n",
            "Epoch 7/10\n",
            "897/897 [==============================] - 2s 2ms/step - loss: 0.4283 - mae: 0.3545 - mse: 0.4283 - val_loss: 0.3771 - val_mae: 0.3508 - val_mse: 0.3771\n",
            "Epoch 8/10\n",
            "897/897 [==============================] - 2s 2ms/step - loss: 0.3829 - mae: 0.3377 - mse: 0.3829 - val_loss: 0.3486 - val_mae: 0.3393 - val_mse: 0.3486\n",
            "Epoch 9/10\n",
            "897/897 [==============================] - 2s 2ms/step - loss: 0.3594 - mae: 0.3307 - mse: 0.3594 - val_loss: 0.3392 - val_mae: 0.3192 - val_mse: 0.3392\n",
            "Epoch 10/10\n",
            "897/897 [==============================] - 2s 2ms/step - loss: 0.3447 - mae: 0.3136 - mse: 0.3447 - val_loss: 0.3448 - val_mae: 0.3330 - val_mse: 0.3448\n"
          ]
        }
      ],
      "source": [
        "history = model.fit(X_train, Y_train, \n",
        "    epochs=10, \n",
        "    batch_size=8, \n",
        "    validation_data=(X_test,Y_test),\n",
        "    verbose=1\n",
        ")"
      ]
    },
    {
      "cell_type": "code",
      "execution_count": null,
      "metadata": {
        "colab": {
          "base_uri": "https://localhost:8080/"
        },
        "id": "GyuIHFkDpgu-",
        "outputId": "ca3fbb18-3446-43da-f24d-72632c9cb8de"
      },
      "outputs": [
        {
          "name": "stdout",
          "output_type": "stream",
          "text": [
            "57/57 [==============================] - 0s 1ms/step - loss: 0.3448 - mae: 0.3330 - mse: 0.3448\n",
            "loss  :  0.34477463364601135\n",
            "mae  :  0.33298739790916443\n",
            "mse  :  0.34477463364601135\n"
          ]
        }
      ],
      "source": [
        "results= model.evaluate(X_test, Y_test )\n",
        "for i in range(len(model.metrics_names)):\n",
        "      print(model.metrics_names[i],\" : \", results[i])"
      ]
    },
    {
      "cell_type": "code",
      "execution_count": null,
      "metadata": {
        "colab": {
          "background_save": true,
          "base_uri": "https://localhost:8080/",
          "height": 181
        },
        "id": "JpOLfhetpnD0",
        "outputId": "43a8f7cd-5bd1-4369-8cfc-59a841a66c20"
      },
      "outputs": [
        {
          "data": {
            "text/plain": [
              "<matplotlib.legend.Legend at 0x7fef6f26bed0>"
            ]
          },
          "execution_count": null,
          "metadata": {},
          "output_type": "execute_result"
        },
        {
          "data": {
            "image/png": "[encoded data removed]",
            "text/plain": [
              "<Figure size 432x288 with 1 Axes>"
            ]
          },
          "metadata": {},
          "output_type": "display_data"
        }
      ],
      "source": [
        "pyplot.subplot(211)\n",
        "pyplot.title('Loss')\n",
        "plt.title(\"La fonction Loss\")\n",
        "pyplot.plot(history.history['loss'], label='train')\n",
        "pyplot.plot(history.history['val_loss'], label='val')\n",
        "plt.xlim(8,50)\n",
        "pyplot.legend()"
      ]
    },
    {
      "cell_type": "code",
      "execution_count": null,
      "metadata": {
        "colab": {
          "base_uri": "https://localhost:8080/"
        },
        "id": "cTo6E8DyFNE3",
        "outputId": "8d27bb35-e2b4-423a-d7a1-ec9e20ae76c6"
      },
      "outputs": [
        {
          "data": {
            "text/plain": [
              "array([[-0.9041619 ],\n",
              "       [ 0.11691427],\n",
              "       [-0.8664184 ],\n",
              "       ...,\n",
              "       [ 0.20890391],\n",
              "       [-0.36783308],\n",
              "       [-0.03109401]], dtype=float32)"
            ]
          },
          "execution_count": 55,
          "metadata": {},
          "output_type": "execute_result"
        }
      ],
      "source": [
        "pred = model.predict(X_test)\n",
        "pred"
      ]
    },
    {
      "cell_type": "code",
      "execution_count": null,
      "metadata": {
        "id": "ss9YX43RILWr"
      },
      "outputs": [],
      "source": [
        "ypred_nn = scalery.inverse_transform(pred)\n",
        "ytest_nn = scalery.inverse_transform(Y_test.reshape(-1,1))"
      ]
    },
    {
      "cell_type": "code",
      "execution_count": null,
      "metadata": {
        "colab": {
          "base_uri": "https://localhost:8080/",
          "height": 345
        },
        "id": "sFxGB6DJpvh9",
        "outputId": "49cf461b-1b99-4d54-c628-89d5ff349524"
      },
      "outputs": [
        {
          "data": {
            "image/png": "[encoded data removed]",
            "text/plain": [
              "<Figure size 720x360 with 1 Axes>"
            ]
          },
          "metadata": {},
          "output_type": "display_data"
        }
      ],
      "source": [
        "x_ax = range(len(Y_test))\n",
        "plt.figure(figsize=(10,5))\n",
        "plt.plot(x_ax, ytest_nn, linewidth=2,marker='o', label=\"data original\")\n",
        "plt.plot(x_ax, ypred_nn, linewidth=2,marker='o', label=\"data predicted\")\n",
        "plt.title(\"Réseaux de Neurones\")\n",
        "# plt.xlabel('X-axis',fontsize=20)\n",
        "plt.ylabel('Claim Amount',fontsize=20)\n",
        "plt.legend(loc='best',fancybox=True, shadow=True, fontsize=20)\n",
        "plt.xticks(fontsize=20)\n",
        "plt.yticks(fontsize=20)\n",
        "plt.grid(True)\n",
        "plt.xlim(100,150)\n",
        "plt.show() "
      ]
    },
    {
      "cell_type": "code",
      "execution_count": null,
      "metadata": {
        "id": "iZPYF9bkHfVv"
      },
      "outputs": [],
      "source": [
        ""
      ]
    }
  ],
  "metadata": {
    "colab": {
      "collapsed_sections": [],
      "name": "Memoire_AKM.ipynb",
      "provenance": [],
      "authorship_tag": "ABX9TyPi6eclOJYINl4HtcNaUt3O",
      "include_colab_link": true
    },
    "kernelspec": {
      "display_name": "Python 3",
      "name": "python3"
    },
    "language_info": {
      "name": "python"
    }
  },
  "nbformat": 4,
  "nbformat_minor": 0
}